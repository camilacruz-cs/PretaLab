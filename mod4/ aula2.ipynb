{
  "nbformat": 4,
  "nbformat_minor": 0,
  "metadata": {
    "colab": {
      "provenance": [],
      "collapsed_sections": [
        "6-8PkGZ3ROGE",
        "Q6au03eBsert",
        "o4WW3GLWtDi2"
      ],
      "include_colab_link": true
    },
    "kernelspec": {
      "name": "python3",
      "display_name": "Python 3"
    },
    "language_info": {
      "name": "python"
    }
  },
  "cells": [
    {
      "cell_type": "markdown",
      "metadata": {
        "id": "view-in-github",
        "colab_type": "text"
      },
      "source": [
        "<a href=\"https://colab.research.google.com/github/camilacruz-cs/PretaLab/blob/main/mod4/%20aula2.ipynb\" target=\"_parent\"><img src=\"https://colab.research.google.com/assets/colab-badge.svg\" alt=\"Open In Colab\"/></a>"
      ]
    },
    {
      "cell_type": "markdown",
      "source": [
        "### Preparando o ambiente"
      ],
      "metadata": {
        "id": "6-8PkGZ3ROGE"
      }
    },
    {
      "cell_type": "code",
      "execution_count": null,
      "metadata": {
        "id": "5m4xT2nauaRw",
        "colab": {
          "base_uri": "https://localhost:8080/"
        },
        "outputId": "32e55ffd-2f30-4876-b9bd-5548aa603082"
      },
      "outputs": [
        {
          "output_type": "stream",
          "name": "stdout",
          "text": [
            "Mounted at /content/drive\n"
          ]
        }
      ],
      "source": [
        "# Montando o Google Drive\n",
        "from google.colab import drive\n",
        "drive.mount('/content/drive')\n"
      ]
    },
    {
      "cell_type": "code",
      "source": [
        "%cd /content/drive/MyDrive/pasa"
      ],
      "metadata": {
        "id": "ej-VPka80aXl",
        "collapsed": true,
        "colab": {
          "base_uri": "https://localhost:8080/"
        },
        "outputId": "37761a20-992a-4dff-853e-e7dded9f9c68"
      },
      "execution_count": null,
      "outputs": [
        {
          "output_type": "stream",
          "name": "stdout",
          "text": [
            "/content/drive/MyDrive/ciclo11_Python_Para_Dados/mod4\n"
          ]
        }
      ]
    },
    {
      "cell_type": "code",
      "source": [
        "import os\n",
        "print(os.getcwd())\n"
      ],
      "metadata": {
        "id": "yb2RpIJAzQCW",
        "collapsed": true,
        "colab": {
          "base_uri": "https://localhost:8080/"
        },
        "outputId": "aa564a5f-2ed4-44a5-d21a-5a21787ee022"
      },
      "execution_count": null,
      "outputs": [
        {
          "output_type": "stream",
          "name": "stdout",
          "text": [
            "/content/drive/MyDrive/ciclo11_Python_Para_Dados/mod4\n"
          ]
        }
      ]
    },
    {
      "cell_type": "code",
      "source": [
        "!ls"
      ],
      "metadata": {
        "collapsed": true,
        "id": "KszmEPUC9by7",
        "colab": {
          "base_uri": "https://localhost:8080/"
        },
        "outputId": "e27180ee-e499-4d0d-bd2a-47b64be47bd9"
      },
      "execution_count": null,
      "outputs": [
        {
          "output_type": "stream",
          "name": "stdout",
          "text": [
            "aula1.ipynb\n"
          ]
        }
      ]
    },
    {
      "cell_type": "markdown",
      "source": [
        "## Método avançados com Bibliotecas Python para Análise de Dados"
      ],
      "metadata": {
        "id": "eIYnSCjOsIWs"
      }
    },
    {
      "cell_type": "code",
      "source": [
        "# Importando as bibliotecas necessárias\n",
        "import pandas as pd\n",
        "import matplotlib.pyplot as plt\n",
        "import seaborn as sns\n",
        "import numpy as np"
      ],
      "metadata": {
        "id": "_Qf575xzRUma"
      },
      "execution_count": null,
      "outputs": []
    },
    {
      "cell_type": "code",
      "execution_count": null,
      "metadata": {
        "id": "BNsCr6rYZ5ch"
      },
      "outputs": [],
      "source": [
        "# 1. Leitura dos dados\n",
        "# Carregar o arquivo Excel enviado\n",
        "file_path = '/path_to_file/pnad_2024.xlsx'  # Altere o caminho para o seu arquivo\n",
        "df = pd.read_excel(file_path, sheet_name='bq-results-20241002-154627-1727')"
      ]
    },
    {
      "cell_type": "markdown",
      "source": [
        "#### Tratamento e limpeza de dados - ETL"
      ],
      "metadata": {
        "id": "Q6au03eBsert"
      }
    },
    {
      "cell_type": "code",
      "execution_count": null,
      "metadata": {
        "id": "UlBcXN-9qNha"
      },
      "outputs": [],
      "source": [
        "# 2. Renomear as colunas com base no dicionário fornecido\n",
        "colunas_dicionario = {\n",
        "    'V2007': 'sexo',\n",
        "    'V2010': 'idade',\n",
        "    'V4001': 'condicao_de_trabalho',\n",
        "    'V4003': 'renda',\n",
        "    'sigla_uf': 'estado',\n",
        "    'V2009': 'raca_cor',\n",
        "    'V4039': 'horas_trabalhadas'\n",
        "}\n"
      ]
    },
    {
      "cell_type": "code",
      "source": [
        "df_renomeado = df.rename(columns=colunas_dicionario)"
      ],
      "metadata": {
        "id": "F5qgXmtqqh_q"
      },
      "execution_count": null,
      "outputs": []
    },
    {
      "cell_type": "code",
      "source": [
        "\n",
        "# 4. Convertendo as colunas para tipos apropriados\n",
        "df_limpo['renda'] = pd.to_numeric(df_limpo['renda'], errors='coerce')\n",
        "df_limpo['horas_trabalhadas'] = pd.to_numeric(df_limpo['horas_trabalhadas'], errors='coerce')\n",
        "df_limpo['idade'] = pd.to_numeric(df_limpo['idade'], errors='coerce')\n"
      ],
      "metadata": {
        "id": "NqbhqIhsspvs"
      },
      "execution_count": null,
      "outputs": []
    },
    {
      "cell_type": "code",
      "source": [
        " 5. Adicionar colunas de interesse (CLT e cargos, assumindo que `condicao_de_trabalho` indica o tipo de contrato)\n",
        "# Aqui, estou assumindo que a condição de trabalho \"1\" indica CLT, e \"2\" seria autônomo.\n",
        "df_limpo['trabalhador_clt'] = df_limpo['condicao_de_trabalho'].apply(lambda x: 1 if x == 1 else 0)\n"
      ],
      "metadata": {
        "id": "Fq2sgxJ-sps9"
      },
      "execution_count": null,
      "outputs": []
    },
    {
      "cell_type": "markdown",
      "source": [
        "#### Análise"
      ],
      "metadata": {
        "id": "o4WW3GLWtDi2"
      }
    },
    {
      "cell_type": "code",
      "source": [
        "# Média de idade\n",
        "media_idade = df_limpo['idade'].mean()"
      ],
      "metadata": {
        "id": "s7Pu8O06spp0"
      },
      "execution_count": null,
      "outputs": []
    },
    {
      "cell_type": "code",
      "source": [
        "# Filtrando pessoas com idade acima de 18 (trabalho formal)\n",
        "df_maiores = df_limpo[df_limpo['idade'] >= 18]"
      ],
      "metadata": {
        "id": "ry_PirYMt509"
      },
      "execution_count": null,
      "outputs": []
    },
    {
      "cell_type": "code",
      "source": [
        "\n",
        "# Filtrando apenas os trabalhadores com renda maior que zero (trabalhadores ativos)\n",
        "df_trabalhadores = df_maiores[df_maiores['renda'] > 0]"
      ],
      "metadata": {
        "id": "2ITnBh-tt869"
      },
      "execution_count": null,
      "outputs": []
    },
    {
      "cell_type": "code",
      "source": [
        "# Média de renda e horas trabalhadas por sexo e raça/cor\n",
        "df_agg_sexo_raca = df_trabalhadores.groupby(['sexo', 'raca_cor']).agg(\n",
        "    media_renda=('renda', 'mean'),\n",
        "    media_horas_trabalhadas=('horas_trabalhadas', 'mean'),\n",
        "    qtd_trabalhadores=('sexo', 'size')\n",
        ").reset_index()"
      ],
      "metadata": {
        "id": "EID9_2kcuAgV"
      },
      "execution_count": null,
      "outputs": []
    },
    {
      "cell_type": "code",
      "source": [
        "# Taxa de trabalhadores CLT por estado\n",
        "df_clt_estado = df_trabalhadores.groupby('estado').agg(\n",
        "    taxa_clt=('trabalhador_clt', 'mean'),\n",
        "    media_renda=('renda', 'mean'),\n",
        "    media_idade=('idade', 'mean')\n",
        ").reset_index()"
      ],
      "metadata": {
        "id": "oOTgUtmWspjE"
      },
      "execution_count": null,
      "outputs": []
    },
    {
      "cell_type": "code",
      "source": [
        "# Criando uma coluna de \"categoria de idade\"\n",
        "df_trabalhadores['faixa_etaria'] = pd.cut(df_trabalhadores['idade'], bins=[18, 30, 40, 50, 60, np.inf], labels=['18-30', '31-40', '41-50', '51-60', '60+'])"
      ],
      "metadata": {
        "id": "FVZ-CE3MuG-N"
      },
      "execution_count": null,
      "outputs": []
    },
    {
      "cell_type": "markdown",
      "source": [
        "#### Visualização"
      ],
      "metadata": {
        "id": "dB_HrH4SuL0-"
      }
    },
    {
      "cell_type": "code",
      "source": [
        "plt.figure(figsize=(14, 8))"
      ],
      "metadata": {
        "id": "fNk5P0OIuNd-"
      },
      "execution_count": null,
      "outputs": []
    },
    {
      "cell_type": "code",
      "source": [
        "# Gráfico 1: Média de renda por faixa etária e sexo\n",
        "plt.subplot(2, 2, 1)\n",
        "sns.barplot(data=df_trabalhadores, x='faixa_etaria', y='renda', hue='sexo')\n",
        "plt.title('Média de Renda por Faixa Etária e Sexo')\n",
        "plt.xlabel('Faixa Etária')\n",
        "plt.ylabel('Média de Renda')\n"
      ],
      "metadata": {
        "id": "jiUM5PRpuOm5"
      },
      "execution_count": null,
      "outputs": []
    },
    {
      "cell_type": "code",
      "source": [
        "# Gráfico 2: Média de horas trabalhadas por raça/cor\n",
        "plt.subplot(2, 2, 2)\n",
        "sns.barplot(data=df_trabalhadores, x='raca_cor', y='horas_trabalhadas', hue='sexo')\n",
        "plt.title('Média de Horas Trabalhadas por Raça/Cor')\n",
        "plt.xlabel('Raça/Cor')\n",
        "plt.ylabel('Média de Horas Trabalhadas')"
      ],
      "metadata": {
        "id": "SmyO3E-3uOkY"
      },
      "execution_count": null,
      "outputs": []
    },
    {
      "cell_type": "code",
      "source": [
        "# Gráfico 3: Taxa de trabalhadores CLT por estado\n",
        "plt.subplot(2, 2, 3)\n",
        "sns.barplot(data=df_clt_estado, x='estado', y='taxa_clt')\n",
        "plt.title('Taxa de Trabalhadores CLT por Estado')\n",
        "plt.xlabel('Estado')\n",
        "plt.ylabel('Taxa CLT (%)')"
      ],
      "metadata": {
        "id": "HFUSb-vpuOhZ"
      },
      "execution_count": null,
      "outputs": []
    },
    {
      "cell_type": "code",
      "source": [
        "# Gráfico 4: Distribuição de trabalhadores por faixa etária\n",
        "plt.subplot(2, 2, 4)\n",
        "sns.countplot(data=df_trabalhadores, x='faixa_etaria', hue='sexo')\n",
        "plt.title('Distribuição de Trabalhadores por Faixa Etária')\n",
        "plt.xlabel('Faixa Etária')\n",
        "plt.ylabel('Contagem')\n",
        "\n",
        "plt.tight_layout()\n",
        "plt.show()"
      ],
      "metadata": {
        "id": "0uzOQ3TwuW6J"
      },
      "execution_count": null,
      "outputs": []
    },
    {
      "cell_type": "markdown",
      "source": [
        " #### Resultados Estatísticos"
      ],
      "metadata": {
        "id": "-XPgVhYuukmp"
      }
    },
    {
      "cell_type": "code",
      "source": [
        "# Exibindo os resultados estatísticos finais\n",
        "print(\"Média de idade dos trabalhadores: \", df_trabalhadores['idade'].mean())\n",
        "print(\"Taxa geral de trabalhadores CLT: \", df_trabalhadores['trabalhador_clt'].mean() * 100, \"%\")\n",
        "print(\"Média geral de renda: \", df_trabalhadores['renda'].mean())\n",
        "print(\"Média geral de horas trabalhadas: \", df_trabalhadores['horas_trabalhadas'].mean())\n"
      ],
      "metadata": {
        "id": "uRWhdBWcuWx6"
      },
      "execution_count": null,
      "outputs": []
    },
    {
      "cell_type": "code",
      "source": [
        "# Exibindo a tabela agregada por sexo e raça/cor\n",
        "print(df_agg_sexo_raca)"
      ],
      "metadata": {
        "id": "atFsUL-muWki"
      },
      "execution_count": null,
      "outputs": []
    },
    {
      "cell_type": "code",
      "source": [
        "# Exibindo a tabela de taxa CLT por estado\n",
        "print(df_clt_estado)"
      ],
      "metadata": {
        "id": "EGOQJNlVushm"
      },
      "execution_count": null,
      "outputs": []
    }
  ]
}