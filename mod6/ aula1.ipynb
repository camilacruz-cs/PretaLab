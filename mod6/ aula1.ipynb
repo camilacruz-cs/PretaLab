{
  "nbformat": 4,
  "nbformat_minor": 0,
  "metadata": {
    "colab": {
      "provenance": [],
      "include_colab_link": true
    },
    "kernelspec": {
      "name": "python3",
      "display_name": "Python 3"
    },
    "language_info": {
      "name": "python"
    }
  },
  "cells": [
    {
      "cell_type": "markdown",
      "metadata": {
        "id": "view-in-github",
        "colab_type": "text"
      },
      "source": [
        "<a href=\"https://colab.research.google.com/github/camilacruz-cs/PretaLab/blob/main/mod6/%20aula1.ipynb\" target=\"_parent\"><img src=\"https://colab.research.google.com/assets/colab-badge.svg\" alt=\"Open In Colab\"/></a>"
      ]
    },
    {
      "cell_type": "markdown",
      "source": [
        "### Preparando o ambiente"
      ],
      "metadata": {
        "id": "6-8PkGZ3ROGE"
      }
    },
    {
      "cell_type": "code",
      "execution_count": null,
      "metadata": {
        "id": "5m4xT2nauaRw",
        "colab": {
          "base_uri": "https://localhost:8080/"
        },
        "outputId": "d40ba0ea-7757-44aa-d2fb-31e3c2b6db09"
      },
      "outputs": [
        {
          "output_type": "stream",
          "name": "stdout",
          "text": [
            "Mounted at /content/drive\n"
          ]
        }
      ],
      "source": [
        "# Montando o Google Drive\n",
        "from google.colab import drive\n",
        "drive.mount('/content/drive')\n"
      ]
    },
    {
      "cell_type": "code",
      "source": [
        "%cd /content/drive/MyDrive/pasta"
      ],
      "metadata": {
        "id": "ej-VPka80aXl",
        "collapsed": true
      },
      "execution_count": null,
      "outputs": []
    },
    {
      "cell_type": "code",
      "source": [
        "import os\n",
        "print(os.getcwd())\n"
      ],
      "metadata": {
        "id": "yb2RpIJAzQCW",
        "collapsed": true
      },
      "execution_count": null,
      "outputs": []
    },
    {
      "cell_type": "code",
      "source": [
        "!ls"
      ],
      "metadata": {
        "collapsed": true,
        "id": "KszmEPUC9by7"
      },
      "execution_count": null,
      "outputs": []
    },
    {
      "cell_type": "markdown",
      "source": [
        "## Cenário"
      ],
      "metadata": {
        "id": "b9j6oFLGNwtA"
      }
    },
    {
      "cell_type": "markdown",
      "source": [
        "**Análise de Satisfação de Clientes em uma Plataforma de E-commerce**"
      ],
      "metadata": {
        "id": "pwaMaEXCN1sR"
      }
    },
    {
      "cell_type": "markdown",
      "source": [],
      "metadata": {
        "id": "un6by08JpCw5"
      }
    },
    {
      "cell_type": "code",
      "source": [],
      "metadata": {
        "id": "n_jjwrSjpB6y"
      },
      "execution_count": null,
      "outputs": []
    },
    {
      "cell_type": "markdown",
      "source": [
        "Vamos trabalhar com uma base de dados de satisfação de clientes retirada do Kaggle. Nosso objetivo é aplicar conceitos já estudado:\n",
        "\n",
        "1. Manipulação de dados,\n",
        "2. banco de dados,\n",
        "3. Estatística descritiva,\n",
        "4. probabilidade e testes de hipóteses\n",
        "\n",
        "\n"
      ],
      "metadata": {
        "id": "VnfhxGmRN56r"
      }
    },
    {
      "cell_type": "markdown",
      "source": [
        "**Sobre o Conjunto de Dados**\n",
        "\n",
        "***Conjunto de Dados Público de E-commerce Brasileiro da Olist***\n",
        "\n",
        "\n",
        "Este é um conjunto de dados público de pedidos feitos na Olist, uma loja de e-commerce brasileira. O conjunto de dados contém informações sobre 100 mil pedidos realizados entre 2016 e 2018 em diversos marketplaces no Brasil. Suas características permitem visualizar um pedido a partir de várias dimensões: desde o status do pedido, preço, pagamento e desempenho de frete até a localização do cliente, atributos do produto e, por fim, avaliações escritas pelos clientes. Também disponibilizamos um conjunto de dados de geolocalização que relaciona os CEPs brasileiros com coordenadas de latitude/longitude.\n",
        "\n",
        "Esses são dados comerciais reais, foram anonimizados e as referências a empresas e parceiros nos textos de avaliação foram substituídas pelos nomes das grandes casas de Game of Thrones.\n",
        "\n",
        "Integração com o Funil de Marketing da Olist\n",
        "\n",
        "Também liberamos um Conjunto de Dados do Funil de Marketing. Você pode unir ambos os conjuntos de dados e agora ver um pedido pela perspectiva de Marketing!\n",
        "\n",
        "As instruções para realizar a junção estão disponíveis neste Kernel.\n",
        "\n",
        "\n",
        "***Contexto***\n",
        "\n",
        "Este conjunto de dados foi gentilmente fornecido pela Olist, a maior loja de departamentos nos marketplaces brasileiros. A Olist conecta pequenos negócios de todo o Brasil a canais de vendas de forma simples e com um único contrato. Esses comerciantes podem vender seus produtos através da Olist e enviá-los diretamente aos clientes usando parceiros logísticos da Olist. Veja mais em nosso site: www.olist.com.\n",
        "\n",
        "Após um cliente comprar um produto na Olist, o vendedor é notificado para atender o pedido. Quando o cliente recebe o produto, ou quando a data de entrega estimada chega ao fim, o cliente recebe uma pesquisa de satisfação por e-mail, onde pode dar uma nota para a experiência de compra e deixar alguns comentários.\n",
        "\n",
        "Atenção\n",
        "\n",
        "Um pedido pode conter múltiplos itens.\n",
        "Cada item pode ser atendido por um vendedor diferente.\n"
      ],
      "metadata": {
        "id": "XHB4Rd6EcGOi"
      }
    },
    {
      "cell_type": "markdown",
      "source": [
        "## Etapa 1: Manipulação de Arquivos e Módulos em Python"
      ],
      "metadata": {
        "id": "djqGq787coqD"
      }
    },
    {
      "cell_type": "code",
      "source": [
        "!pip install kaggle\n"
      ],
      "metadata": {
        "id": "KoZrBFmwd6hs"
      },
      "execution_count": null,
      "outputs": []
    },
    {
      "cell_type": "code",
      "source": [
        "import os\n",
        "import pandas as pd\n",
        "import csv\n",
        "import matplotlib.pyplot as plt\n",
        "import seaborn as sns\n",
        "from scipy import stats\n",
        "import sqlite3\n",
        "import numpy as np"
      ],
      "metadata": {
        "collapsed": true,
        "id": "ST-DcbWLd_kL"
      },
      "execution_count": null,
      "outputs": []
    },
    {
      "cell_type": "markdown",
      "source": [
        "Dataset  Conjunto de Dados Público de E-commerce Brasileiro da Olist"
      ],
      "metadata": {
        "id": "3qhJHkkSfx_H"
      }
    },
    {
      "cell_type": "code",
      "source": [
        "import kagglehub\n",
        "\n",
        "# Download selected version\n",
        "path = kagglehub.dataset_download(\"olistbr/brazilian-ecommerce/versions/7\")\n",
        "\n",
        "print(\"Path to dataset files:\", path)"
      ],
      "metadata": {
        "collapsed": true,
        "id": "q8MHtzrrss48"
      },
      "execution_count": null,
      "outputs": []
    },
    {
      "cell_type": "code",
      "source": [
        "# Carregando a base de clientes\n",
        "customers = pd.read_csv('/root/.cache/kagglehub/datasets/olistbr/brazilian-ecommerce/versions/7/olist_customers_dataset.csv')\n",
        "\n",
        "# Carregando a base de pedidos\n",
        "orders = pd.read_csv('/root/.cache/kagglehub/datasets/olistbr/brazilian-ecommerce/versions/7/olist_orders_dataset.csv')\n",
        "\n",
        "# Carregando a base de itens vendidos\n",
        "order_items = pd.read_csv('/root/.cache/kagglehub/datasets/olistbr/brazilian-ecommerce/versions/7/olist_order_items_dataset.csv')\n",
        "\n",
        "# Carregando a base de marketing e reviews (satisfação)\n",
        "marketing_reviews = pd.read_csv('/root/.cache/kagglehub/datasets/olistbr/brazilian-ecommerce/versions/7/olist_order_reviews_dataset.csv')\n",
        "\n",
        "reviews = pd.read_csv('/root/.cache/kagglehub/datasets/olistbr/brazilian-ecommerce/versions/7/olist_order_reviews_dataset.csv')\n"
      ],
      "metadata": {
        "id": "B5GNfSOZflmT"
      },
      "execution_count": null,
      "outputs": []
    },
    {
      "cell_type": "code",
      "source": [
        "# Verificando valores faltantes\n",
        "print(customers.isnull().sum())\n",
        "print(orders.isnull().sum())\n",
        "print(order_items.isnull().sum())\n",
        "print(reviews.isnull().sum())"
      ],
      "metadata": {
        "collapsed": true,
        "id": "6DnM9gVmyXRy"
      },
      "execution_count": null,
      "outputs": []
    },
    {
      "cell_type": "code",
      "source": [
        "# Tratamento de dados: preenchendo valores faltantes\n",
        "customers.fillna('Unknown', inplace=True)\n",
        "orders['order_delivered_customer_date'].fillna(method='ffill', inplace=True)"
      ],
      "metadata": {
        "collapsed": true,
        "id": "Jy-F34vNyxvK"
      },
      "execution_count": null,
      "outputs": []
    },
    {
      "cell_type": "code",
      "source": [
        "# Exemplo de transformação usando Numpy - criando uma coluna de dias para entrega\n",
        "orders['delivery_time_days'] = np.where(orders['order_delivered_customer_date'].notnull(),\n",
        "                                        (pd.to_datetime(orders['order_delivered_customer_date']) -\n",
        "                                         pd.to_datetime(orders['order_purchase_timestamp'])).dt.days,\n",
        "                                        np.nan)\n"
      ],
      "metadata": {
        "id": "Y4SRX45Wy8qF"
      },
      "execution_count": null,
      "outputs": []
    },
    {
      "cell_type": "code",
      "source": [
        "# Verificando os dados transformados\n",
        "orders.head()"
      ],
      "metadata": {
        "collapsed": true,
        "id": "D5Eg-FBNzG_v"
      },
      "execution_count": null,
      "outputs": []
    },
    {
      "cell_type": "markdown",
      "source": [
        "Segundo dataset são vendas realizadas na plataforma."
      ],
      "metadata": {
        "id": "whnBra1xf8os"
      }
    },
    {
      "cell_type": "markdown",
      "source": [
        "## Passo 2: Criar e inserir dados no banco de dados SQLite"
      ],
      "metadata": {
        "id": "nZAGGQFpgN7j"
      }
    },
    {
      "cell_type": "markdown",
      "source": [
        "Vamos alimentar um banco de dados SQLite com os  datasets. A vantagem disso é que podemos realizar consultas complexas para responder a perguntas de negócio de forma eficiente, como entender quais campanhas geraram mais vendas ou os padrões de comportamento dos clientes."
      ],
      "metadata": {
        "id": "wie_CbRfgVzI"
      }
    },
    {
      "cell_type": "markdown",
      "source": [
        "**Criando e populando o banco de dados SQLite:**\n"
      ],
      "metadata": {
        "id": "4KJ1Buvaghrz"
      }
    },
    {
      "cell_type": "code",
      "source": [
        "# Conectar ao banco de dados SQLite (ou criar, se não existir)\n",
        "conn = sqlite3.connect('olist_marketing_sales.db')\n",
        "cursor = conn.cursor()"
      ],
      "metadata": {
        "id": "Qc584AlQgreg"
      },
      "execution_count": null,
      "outputs": []
    },
    {
      "cell_type": "code",
      "source": [
        "# Criar tabelas no banco de dados para armazenar os dados\n",
        "customers.to_sql('customers', conn, if_exists='replace', index=False)\n",
        "orders.to_sql('orders', conn, if_exists='replace', index=False)\n",
        "order_items.to_sql('order_items', conn, if_exists='replace', index=False)\n",
        "reviews.to_sql('reviews', conn, if_exists='replace', index=False)"
      ],
      "metadata": {
        "id": "mxjsFk-Ggu6T"
      },
      "execution_count": null,
      "outputs": []
    },
    {
      "cell_type": "code",
      "source": [
        "# Conferir se as tabelas foram criadas corretamente\n",
        "cursor.execute(\"SELECT name FROM sqlite_master WHERE type='table';\")\n",
        "print(cursor.fetchall())"
      ],
      "metadata": {
        "id": "REjaTd6V0a3k"
      },
      "execution_count": null,
      "outputs": []
    },
    {
      "cell_type": "code",
      "source": [
        "# Commitar as mudanças e fechar a conexão\n",
        "conn.commit()\n",
        "conn.close()"
      ],
      "metadata": {
        "id": "Sho1d7KLg5Gf"
      },
      "execution_count": null,
      "outputs": []
    },
    {
      "cell_type": "markdown",
      "source": [],
      "metadata": {
        "id": "qwKCG9C2gQ4E"
      }
    },
    {
      "cell_type": "markdown",
      "source": [
        " Esse cruzamento vai permitir entendermos, por exemplo, quais tipos de campanhas de marketing resultaram em maiores vendas ou em uma melhor retenção de clientes."
      ],
      "metadata": {
        "id": "bUGeLprzgFVX"
      }
    },
    {
      "cell_type": "markdown",
      "source": [
        "## Passo 3: Consultas SQL para cruzar os dados"
      ],
      "metadata": {
        "id": "uyHx0-2Ng8tJ"
      }
    },
    {
      "cell_type": "markdown",
      "source": [
        "Agora que temos ambos os datasets no banco de dados SQLite, podemos começar a cruzar as informações de marketing e vendas para analisar como as campanhas impactaram as vendas."
      ],
      "metadata": {
        "id": "HPvrDCTghALH"
      }
    },
    {
      "cell_type": "code",
      "source": [
        "# Reabrir conexão com o banco de dados\n",
        "conn = sqlite3.connect('olist_marketing_sales.db')\n",
        "cursor = conn.cursor()"
      ],
      "metadata": {
        "id": "EYzpLS2xhDaq"
      },
      "execution_count": null,
      "outputs": []
    },
    {
      "cell_type": "code",
      "source": [
        "# Consultar as vendas que foram impactadas por campanhas\n",
        "# Consulta SQL para cruzar vendas, clientes e avaliações\n",
        "query = '''\n",
        "    SELECT c.customer_id, o.order_id, oi.product_id, r.review_score, o.order_purchase_timestamp\n",
        "    FROM orders o\n",
        "    JOIN customers c ON o.customer_id = c.customer_id\n",
        "    JOIN order_items oi ON o.order_id = oi.order_id\n",
        "    JOIN reviews r ON o.order_id = r.order_id\n",
        "    WHERE r.review_score IS NOT NULL;\n",
        "'''"
      ],
      "metadata": {
        "id": "bjeHYbC4hGI7"
      },
      "execution_count": null,
      "outputs": []
    },
    {
      "cell_type": "code",
      "source": [
        "# Executar a consulta e armazenar o resultado em um DataFrame\n",
        "df_crossed_data = pd.read_sql_query(query, conn)\n",
        "\n",
        "print(\"Dados Cruzados:\")\n",
        "print(df_crossed_data.head())"
      ],
      "metadata": {
        "collapsed": true,
        "id": "AxQMXNHlhKwX"
      },
      "execution_count": null,
      "outputs": []
    },
    {
      "cell_type": "code",
      "source": [],
      "metadata": {
        "id": "P8UcTcPo4HPb"
      },
      "execution_count": null,
      "outputs": []
    },
    {
      "cell_type": "code",
      "source": [
        "# Fechar conexão com o banco\n",
        "conn.close()"
      ],
      "metadata": {
        "id": "IwJaIgkzgE58"
      },
      "execution_count": null,
      "outputs": []
    },
    {
      "cell_type": "markdown",
      "source": [
        "## Passo 4: Análise e visualização dos dados"
      ],
      "metadata": {
        "id": "cqM4NjOyhPrL"
      }
    },
    {
      "cell_type": "markdown",
      "source": [
        "Agora, com o cruzamento dos dados pronto, podemos realizar a análise estatística e as visualizações necessárias para entender melhor o impacto das campanhas nas vendas.\n",
        "\n",
        "Análise Estatística (Testes de Hipóteses, Probabilidade e Amostragem):\n",
        "Probabilidade e Distribuições:\n",
        "Qual a probabilidade de uma campanha específica resultar em uma venda?\n",
        "Qual a taxa de conversão por campanha?"
      ],
      "metadata": {
        "id": "4fANYjhJi5zB"
      }
    },
    {
      "cell_type": "code",
      "source": [
        "# Calcular a probabilidade de uma campanha resultar em uma venda positiva (review_score > 3)\n",
        "vendas_positivas = len(df_crossed_data[df_crossed_data['review_score'] > 3])\n",
        "total_vendas = len(df_crossed_data)\n",
        "prob_venda = (vendas_positivas / total_vendas) * 100\n",
        "\n",
        "print(f'Probabilidade de uma campanha resultar em venda positiva: {prob_venda:.2f}%')\n"
      ],
      "metadata": {
        "id": "c_82quSbhRWr"
      },
      "execution_count": null,
      "outputs": []
    },
    {
      "cell_type": "markdown",
      "source": [
        "**Testes de Hipóteses (ANOVA):**\n",
        "\n",
        "Vamos usar ANOVA para verificar se existe uma diferença significativa nas avaliações entre diferentes tipos de campanhas (supondo que temos dados de tipo de campanha)."
      ],
      "metadata": {
        "id": "5egx_Z9hhNA7"
      }
    },
    {
      "cell_type": "code",
      "source": [
        "from scipy import stats\n"
      ],
      "metadata": {
        "id": "Cm7lbb2f2Rnq"
      },
      "execution_count": null,
      "outputs": []
    },
    {
      "cell_type": "code",
      "source": [
        "# Supondo que temos uma coluna 'campaign_type' na tabela de Marketing\n",
        "# Aqui, apenas para fins de exemplo, adicionamos uma coluna fictícia de tipo de campanha\n",
        "# Em um cenário real, essa coluna deve estar presente nos dados\n",
        "\n",
        "# Adicionar coluna fictícia de tipo de campanha para exemplo\n",
        "np.random.seed(42)\n",
        "campaign_types = ['Email', 'Social Media', 'Google Ads']\n",
        "df_crossed_data['campaign_type'] = np.random.choice(campaign_types, size=len(df_crossed_data))"
      ],
      "metadata": {
        "id": "x4YrK5Tf6Wsn"
      },
      "execution_count": null,
      "outputs": []
    },
    {
      "cell_type": "code",
      "source": [
        "# Realizar ANOVA para comparar a média de avaliações de diferentes tipos de campanha\n",
        "anova_result = stats.f_oneway(\n",
        "    df_crossed_data[df_crossed_data['campaign_type'] == 'Email']['review_score'],\n",
        "    df_crossed_data[df_crossed_data['campaign_type'] == 'Social Media']['review_score'],\n",
        "    df_crossed_data[df_crossed_data['campaign_type'] == 'Google Ads']['review_score']\n",
        ")\n",
        "\n",
        "print(f'Resultado ANOVA: Estatística F = {anova_result.statistic:.4f}, Valor-p = {anova_result.pvalue:.4f}')\n",
        "\n"
      ],
      "metadata": {
        "id": "p0GEQTZ5jXMD"
      },
      "execution_count": null,
      "outputs": []
    },
    {
      "cell_type": "code",
      "source": [
        "# Interpretação\n",
        "if anova_result.pvalue < 0.05:\n",
        "    print(\"Rejeitamos a hipótese nula: há uma diferença significativa nas avaliações entre os tipos de campanha.\")\n",
        "else:\n",
        "    print(\"Não rejeitamos a hipótese nula: não há diferença significativa nas avaliações entre os tipos de campanha.\")"
      ],
      "metadata": {
        "id": "XZSi7UyNjtzX"
      },
      "execution_count": null,
      "outputs": []
    },
    {
      "cell_type": "markdown",
      "source": [
        "## Passo 5:Análise da Satisfação do Cliente para Vendas Impactadas"
      ],
      "metadata": {
        "id": "xUpBhGYTj-jP"
      }
    },
    {
      "cell_type": "markdown",
      "source": [
        "Vamos verificar se as vendas impactadas pelas campanhas têm avaliações mais positivas, indicando maior satisfação dos clientes."
      ],
      "metadata": {
        "id": "w88zPUS41EzW"
      }
    },
    {
      "cell_type": "code",
      "source": [
        "# Filtrar vendas impactadas por campanhas (review_score > 3)\n",
        "vendas_impactadas = df_crossed_data[df_crossed_data['review_score'] > 3]"
      ],
      "metadata": {
        "id": "FTh6eF3961nf"
      },
      "execution_count": null,
      "outputs": []
    },
    {
      "cell_type": "code",
      "source": [
        "# Calcular a média das avaliações para vendas impactadas\n",
        "media_satisfacao = vendas_impactadas['review_score'].mean()\n",
        "print(f'Média de satisfação dos clientes impactados por campanhas: {media_satisfacao:.2f}')"
      ],
      "metadata": {
        "id": "CWr07YpH644m"
      },
      "execution_count": null,
      "outputs": []
    },
    {
      "cell_type": "code",
      "source": [
        "plt.figure(figsize=(10, 6))\n",
        "sns.histplot(vendas_impactadas['review_score'], bins=5, kde=True, color='green')\n",
        "plt.title('Distribuição das Avaliações - Vendas Impactadas por Campanhas')\n",
        "plt.xlabel('Review Score')\n",
        "plt.ylabel('Frequência')\n",
        "plt.show()"
      ],
      "metadata": {
        "id": "Ylwlgjmw66cr"
      },
      "execution_count": null,
      "outputs": []
    },
    {
      "cell_type": "markdown",
      "source": [
        "## Passo 6: Cálculo da Taxa de Conversão Geral"
      ],
      "metadata": {
        "id": "nTkjIHLA7FpH"
      }
    },
    {
      "cell_type": "code",
      "source": [
        "# Conectar ao banco de dados novamente\n",
        "conn = sqlite3.connect('olist_marketing_sales.db')"
      ],
      "metadata": {
        "id": "VE9wb1Zh7Fag"
      },
      "execution_count": null,
      "outputs": []
    },
    {
      "cell_type": "code",
      "source": [
        "# Consultar o total de clientes\n",
        "query_total_clients = 'SELECT COUNT(*) FROM customers;'\n",
        "total_clientes = pd.read_sql_query(query_total_clients, conn).iloc[0,0]"
      ],
      "metadata": {
        "id": "FKX9o46HkC5H"
      },
      "execution_count": null,
      "outputs": []
    },
    {
      "cell_type": "code",
      "source": [
        "# Consultar o número de clientes que realizaram pelo menos uma compra\n",
        "query_clientes_compras = '''\n",
        "    SELECT COUNT(DISTINCT customer_id)\n",
        "    FROM orders;\n",
        "'''"
      ],
      "metadata": {
        "id": "a02QG1Ti7LCf"
      },
      "execution_count": null,
      "outputs": []
    },
    {
      "cell_type": "code",
      "source": [
        "clientes_compras = pd.read_sql_query(query_clientes_compras, conn).iloc[0,0]\n"
      ],
      "metadata": {
        "id": "91rvjE5C7NOv"
      },
      "execution_count": null,
      "outputs": []
    },
    {
      "cell_type": "code",
      "source": [
        "# Calcular a taxa de conversão geral\n",
        "taxa_conversao_geral = (clientes_compras / total_clientes) * 100\n",
        "print(f'Taxa de Conversão Geral: {taxa_conversao_geral:.2f}%')"
      ],
      "metadata": {
        "id": "oYzHn8fD7O03"
      },
      "execution_count": null,
      "outputs": []
    },
    {
      "cell_type": "code",
      "source": [
        "# Fechar a conexão\n",
        "conn.close()"
      ],
      "metadata": {
        "id": "eOuTijjl7R08"
      },
      "execution_count": null,
      "outputs": []
    }
  ]
}