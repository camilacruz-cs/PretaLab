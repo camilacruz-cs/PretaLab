{
  "nbformat": 4,
  "nbformat_minor": 0,
  "metadata": {
    "colab": {
      "provenance": [],
      "include_colab_link": true
    },
    "kernelspec": {
      "name": "python3",
      "display_name": "Python 3"
    },
    "language_info": {
      "name": "python"
    }
  },
  "cells": [
    {
      "cell_type": "markdown",
      "metadata": {
        "id": "view-in-github",
        "colab_type": "text"
      },
      "source": [
        "<a href=\"https://colab.research.google.com/github/camilacruz-cs/PretaLab/blob/main/mod1/%20aula2_pacotes_modulos.ipynb\" target=\"_parent\"><img src=\"https://colab.research.google.com/assets/colab-badge.svg\" alt=\"Open In Colab\"/></a>"
      ]
    },
    {
      "cell_type": "markdown",
      "source": [
        "# Aula 2: Explorando Pacotes e Módulos em Python\n",
        "\n"
      ],
      "metadata": {
        "id": "klcdw0nlud5_"
      }
    },
    {
      "cell_type": "markdown",
      "source": [
        "## **Preparando ambiente**"
      ],
      "metadata": {
        "id": "ic4A61sF9isH"
      }
    },
    {
      "cell_type": "code",
      "execution_count": null,
      "metadata": {
        "id": "5m4xT2nauaRw",
        "colab": {
          "base_uri": "https://localhost:8080/"
        },
        "outputId": "7245861f-eceb-4ec7-c963-726fd0d524d2"
      },
      "outputs": [
        {
          "output_type": "stream",
          "name": "stdout",
          "text": [
            "Drive already mounted at /content/drive; to attempt to forcibly remount, call drive.mount(\"/content/drive\", force_remount=True).\n"
          ]
        }
      ],
      "source": [
        "# Montando o Google Drive\n",
        "from google.colab import drive\n",
        "drive.mount('/content/drive')\n"
      ]
    },
    {
      "cell_type": "code",
      "source": [
        "%cd /content/drive/MyDrive/Colab Notebooks/PretaLab - Python para análise de dados/Módulo 1"
      ],
      "metadata": {
        "colab": {
          "base_uri": "https://localhost:8080/"
        },
        "id": "ej-VPka80aXl",
        "outputId": "704c299f-15c5-4679-863c-f77954cae0ad"
      },
      "execution_count": null,
      "outputs": [
        {
          "output_type": "stream",
          "name": "stdout",
          "text": [
            "/content/drive/MyDrive/Colab Notebooks/PretaLab - Python para análise de dados/Módulo 1\n"
          ]
        }
      ]
    },
    {
      "cell_type": "code",
      "source": [
        "import os\n",
        "print(os.getcwd())\n"
      ],
      "metadata": {
        "colab": {
          "base_uri": "https://localhost:8080/"
        },
        "id": "yb2RpIJAzQCW",
        "outputId": "04d2542e-2997-4327-c5df-dd3e11451355"
      },
      "execution_count": null,
      "outputs": [
        {
          "output_type": "stream",
          "name": "stdout",
          "text": [
            "/content/drive/MyDrive/Colab Notebooks/PretaLab - Python para análise de dados/Módulo 1\n"
          ]
        }
      ]
    },
    {
      "cell_type": "code",
      "source": [
        "!ls"
      ],
      "metadata": {
        "colab": {
          "base_uri": "https://localhost:8080/"
        },
        "collapsed": true,
        "id": "KszmEPUC9by7",
        "outputId": "48f12737-38a1-4d5f-a135-7f0ad27c6899"
      },
      "execution_count": null,
      "outputs": [
        {
          "output_type": "stream",
          "name": "stdout",
          "text": [
            " aula1_manuseio_arquivos.ipynb\t    internacoes.csv    pseudocodigo.txt    saida_parte_4.csv\n",
            "'aula2_pacotes_modulos (1).ipynb'   main.py\t       __pycache__\t   saida_parte_5.csv\n",
            " aula2_pacotes_modulos.ipynb\t    meu_modulo.py      saida_parte_1.csv   vendas_ficticias.csv\n",
            " aula3_autogestao.ipynb\t\t    novo_arquivo       saida_parte_2.csv\n",
            " dados_ficticias.py\t\t    novo_arquivo.txt   saida_parte_3.csv\n"
          ]
        }
      ]
    },
    {
      "cell_type": "markdown",
      "metadata": {
        "id": "50f442ce"
      },
      "source": [
        "Vamos criar um módulo personalizado `meu_modulo.py` com algumas funções e constantes."
      ]
    },
    {
      "cell_type": "code",
      "execution_count": null,
      "metadata": {
        "id": "aca2feef"
      },
      "outputs": [],
      "source": [
        "\n",
        "# Arquivo: meu_modulo.py\n",
        "\n",
        "def saudacao(nome):\n",
        "    return f\"Olá, {nome}!\"\n",
        "\n",
        "def soma(a, b):\n",
        "    return a + b\n",
        "\n",
        "PI = 3.14159\n"
      ]
    },
    {
      "cell_type": "markdown",
      "metadata": {
        "id": "ba136148"
      },
      "source": [
        "Agora, vamos usar este módulo em outro script."
      ]
    },
    {
      "cell_type": "code",
      "execution_count": null,
      "metadata": {
        "id": "c4365b4e",
        "colab": {
          "base_uri": "https://localhost:8080/",
          "height": 403
        },
        "outputId": "c0636cba-3426-41b9-9471-c9cd76908cd0"
      },
      "outputs": [
        {
          "output_type": "error",
          "ename": "ModuleNotFoundError",
          "evalue": "No module named 'meu_modulo'",
          "traceback": [
            "\u001b[0;31m---------------------------------------------------------------------------\u001b[0m",
            "\u001b[0;31mModuleNotFoundError\u001b[0m                       Traceback (most recent call last)",
            "\u001b[0;32m<ipython-input-24-0736b7459ec5>\u001b[0m in \u001b[0;36m<cell line: 3>\u001b[0;34m()\u001b[0m\n\u001b[1;32m      1\u001b[0m \u001b[0;31m# Arquivo: main.py\u001b[0m\u001b[0;34m\u001b[0m\u001b[0;34m\u001b[0m\u001b[0m\n\u001b[1;32m      2\u001b[0m \u001b[0;34m\u001b[0m\u001b[0m\n\u001b[0;32m----> 3\u001b[0;31m \u001b[0;32mimport\u001b[0m \u001b[0mmeu_modulo\u001b[0m\u001b[0;34m\u001b[0m\u001b[0;34m\u001b[0m\u001b[0m\n\u001b[0m\u001b[1;32m      4\u001b[0m \u001b[0;34m\u001b[0m\u001b[0m\n\u001b[1;32m      5\u001b[0m \u001b[0;31m# Usando a função saudacao do módulo\u001b[0m\u001b[0;34m\u001b[0m\u001b[0;34m\u001b[0m\u001b[0m\n",
            "\u001b[0;31mModuleNotFoundError\u001b[0m: No module named 'meu_modulo'",
            "",
            "\u001b[0;31m---------------------------------------------------------------------------\u001b[0;32m\nNOTE: If your import is failing due to a missing package, you can\nmanually install dependencies using either !pip or !apt.\n\nTo view examples of installing some common dependencies, click the\n\"Open Examples\" button below.\n\u001b[0;31m---------------------------------------------------------------------------\u001b[0m\n"
          ],
          "errorDetails": {
            "actions": [
              {
                "action": "open_url",
                "actionText": "Open Examples",
                "url": "/notebooks/snippets/importing_libraries.ipynb"
              }
            ]
          }
        }
      ],
      "source": [
        "\n",
        "# Arquivo: main.py\n",
        "\n",
        "import meu_modulo\n",
        "\n",
        "# Usando a função saudacao do módulo\n",
        "print(meu_modulo.saudacao(\"Ana\"))\n",
        "\n",
        "# Usando a função soma do módulo\n",
        "resultado = meu_modulo.soma(5, 7)\n",
        "print(f\"Soma: {resultado}\")\n",
        "\n",
        "# Usando a constante PI do módulo\n",
        "print(f\"O valor de PI é: {meu_modulo.PI}\")\n"
      ]
    },
    {
      "cell_type": "markdown",
      "source": [
        "## **O que são Módulos em Python**? 🤔\n",
        "\n",
        "Imagine que você está construindo uma cidade 🌆, e cada edifício 🏢 é uma parte do seu projeto. Agora, ao invés de colocar todos os edifícios em uma única avenida cheia e confusa, você decide dividi-los em bairros 🏘️. Cada bairro tem uma função específica: um bairro só de escolas, outro só de hospitais, e assim por diante.\n"
      ],
      "metadata": {
        "id": "5HWWkgaO_Mya"
      }
    },
    {
      "cell_type": "markdown",
      "source": [
        "#### **Exemplo de Código Antes de Usar Módulos**\n",
        "Imagine que você está criando um programa simples para calcular a área de um círculo, a energia potencial, e também para exibir uma saudação personalizada. Se você não usasse módulos, todo o código estaria em um único arquivo. Vamos ver como isso ficaria:"
      ],
      "metadata": {
        "id": "-b4IO18cAWZh"
      }
    },
    {
      "cell_type": "code",
      "source": [
        "def soma(a,b):\n",
        "  return a+b"
      ],
      "metadata": {
        "id": "APfalcqFo1jm"
      },
      "execution_count": null,
      "outputs": []
    },
    {
      "cell_type": "code",
      "source": [
        "soma(10,50)"
      ],
      "metadata": {
        "colab": {
          "base_uri": "https://localhost:8080/"
        },
        "id": "rmzijejMo91J",
        "outputId": "aa7ef2d9-c17b-4a9e-c42d-2c928c6f02ed"
      },
      "execution_count": null,
      "outputs": [
        {
          "output_type": "execute_result",
          "data": {
            "text/plain": [
              "60"
            ]
          },
          "metadata": {},
          "execution_count": 27
        }
      ]
    },
    {
      "cell_type": "code",
      "source": [
        "# Constantes\n",
        "PI = 3.14159\n",
        "GRAVIDADE = 9.81\n",
        "\n",
        "# Função que calcula a área de um círculo\n",
        "def calcular_area_circulo(raio):\n",
        "    \"\"\"Calcula a área de um círculo dado o raio\"\"\"\n",
        "    return PI * (raio ** 2)\n",
        "\n",
        "# Função que calcula a energia potencial\n",
        "def calcular_energia_potencial(massa, altura):\n",
        "    \"\"\"Calcula a energia potencial gravitacional\"\"\"\n",
        "    return massa * GRAVIDADE * altura\n",
        "\n",
        "# Função que diz olá para o usuário\n",
        "def dizer_ola(nome):\n",
        "    \"\"\"Diz Olá para o usuário\"\"\"\n",
        "    return f\"Olá, {nome}! Bem-vindo ao programa de cálculos!\"\n",
        "\n",
        "# Cálculo da área de um círculo\n",
        "raio = 5\n",
        "area = calcular_area_circulo(raio)\n",
        "print(f\"A área do círculo de raio {raio} é {area}\")\n",
        "\n",
        "# Cálculo da energia potencial\n",
        "massa = 10  # kg\n",
        "altura = 20  # metros\n",
        "energia = calcular_energia_potencial(massa, altura)\n",
        "print(f\"A energia potencial de um objeto de {massa}kg a {altura}m de altura é {energia}\")\n",
        "\n",
        "# Saudação personalizada\n",
        "nome = \"Alice\"\n",
        "saudacao = dizer_ola(nome)\n",
        "print(saudacao)\n"
      ],
      "metadata": {
        "colab": {
          "base_uri": "https://localhost:8080/"
        },
        "id": "hNEvFz1hAW6f",
        "outputId": "5301fab0-df0c-47c2-c650-36aebdc35983"
      },
      "execution_count": null,
      "outputs": [
        {
          "output_type": "stream",
          "name": "stdout",
          "text": [
            "A área do círculo de raio 5 é 78.53975\n",
            "A energia potencial de um objeto de 10kg a 20m de altura é 1962.0000000000002\n",
            "Olá, Alice! Bem-vindo ao programa de cálculos!\n"
          ]
        }
      ]
    },
    {
      "cell_type": "markdown",
      "source": [
        "**Problemas:**\n",
        "\n",
        "1. Tudo está em um único arquivo, o que torna o código mais difícil de ler e manter à medida que ele cresce.\n",
        "\n",
        "2. Reutilização limitada: Se você quisesse usar essas funções em outro projeto, teria que copiá-las manualmente para o novo código."
      ],
      "metadata": {
        "id": "N5arvoj0CPN2"
      }
    },
    {
      "cell_type": "markdown",
      "source": [
        "## **Módulos em Python**\n",
        "São como esses bairros! Eles ajudam você a organizar suas funções e constantes de maneira que o código fique mais fácil de entender e reutilizar. Ao invés de colocar todo o código em um único arquivo (que pode virar uma \"avenida\" cheia e difícil de gerenciar), você divide em várias partes menores, onde cada parte tem uma função clara.\n"
      ],
      "metadata": {
        "id": "mB4qZ4YqAw5_"
      }
    },
    {
      "cell_type": "code",
      "source": [
        "# meu_modulo.py - Tudo que é repetitivo está por aqui.\n",
        "\n",
        "conteudo = '''\n",
        "# Constantes\n",
        "PI = 3.14159\n",
        "GRAVIDADE = 9.81\n",
        "\n",
        "# Função que calcula a área de um círculo\n",
        "def calcular_area_circulo(raio):\n",
        "    \"\"\"Calcula a área de um círculo dado o raio\"\"\"\n",
        "    return PI * (raio ** 2)\n",
        "\n",
        "# Função que calcula a energia potencial\n",
        "def calcular_energia_potencial(massa, altura):\n",
        "    \"\"\"Calcula a energia potencial gravitacional\"\"\"\n",
        "    return massa * GRAVIDADE * altura\n",
        "\n",
        "# Função que diz olá para o usuário\n",
        "def dizer_ola(nome):\n",
        "    \"\"\"Diz Olá para o usuário\"\"\"\n",
        "    return f\"Olá, {nome}! Bem-vindo ao programa de cálculos!\"\n",
        "'''\n",
        "\n",
        "with open('meu_modulo.py', 'w') as arquivo:\n",
        "    arquivo.write(conteudo)\n"
      ],
      "metadata": {
        "id": "5BKBQW_RCE5I"
      },
      "execution_count": null,
      "outputs": []
    },
    {
      "cell_type": "markdown",
      "source": [
        "Usando o Módulo no Arquivo Principal (main.py)\n",
        "python"
      ],
      "metadata": {
        "id": "iUqK42ueC-Dj"
      }
    },
    {
      "cell_type": "code",
      "source": [
        "#main.py\n",
        "\n",
        "conteudo_principal = '''\n",
        "import meu_modulo\n",
        "\n",
        "# Usando a função do módulo para calcular a área de um círculo\n",
        "raio = 5\n",
        "area = meu_modulo.calcular_area_circulo(raio)\n",
        "print(f\"A área do círculo de raio {raio} é {area}\")\n",
        "\n",
        "# Usando a função para calcular a energia potencial\n",
        "massa = 10  # kg\n",
        "altura = 20  # metros\n",
        "energia = meu_modulo.calcular_energia_potencial(massa, altura)\n",
        "print(f\"A energia potencial de um objeto de {massa}kg a {altura}m de altura é {energia}\")\n",
        "\n",
        "# Usando a função de saudação\n",
        "nome = \"Alice\"\n",
        "saudacao = meu_modulo.dizer_ola(nome)\n",
        "print(saudacao)\n",
        "'''\n",
        "with open('main.py', 'w') as arquivo2:\n",
        "    arquivo2.write(conteudo_principal)"
      ],
      "metadata": {
        "collapsed": true,
        "id": "-i0Fvrf7CFmA"
      },
      "execution_count": null,
      "outputs": []
    },
    {
      "cell_type": "code",
      "source": [
        "from meu_modulo import calcular_area_circulo\n",
        "import meu_modulo as mm\n"
      ],
      "metadata": {
        "id": "6CeTbkwORKkp"
      },
      "execution_count": null,
      "outputs": []
    },
    {
      "cell_type": "code",
      "source": [
        "raio = 10\n",
        "area = mm.calcular_area_circulo(raio)\n"
      ],
      "metadata": {
        "id": "wLdWb-YQSFZY"
      },
      "execution_count": null,
      "outputs": []
    },
    {
      "cell_type": "code",
      "source": [
        "area\n"
      ],
      "metadata": {
        "colab": {
          "base_uri": "https://localhost:8080/"
        },
        "id": "kwi0hVhYSbya",
        "outputId": "94b51b6e-3774-44b7-fc91-01a24b5dd3fa"
      },
      "execution_count": null,
      "outputs": [
        {
          "output_type": "execute_result",
          "data": {
            "text/plain": [
              "314.159"
            ]
          },
          "metadata": {},
          "execution_count": 50
        }
      ]
    },
    {
      "cell_type": "code",
      "source": [
        "raio = 5\n",
        "area = meu_modulo.calcular_area_circulo(raio)\n",
        "print(f\"A área do círculo de raio {raio} é {area}\")\n"
      ],
      "metadata": {
        "id": "YaHQRzyfR75a"
      },
      "execution_count": null,
      "outputs": []
    },
    {
      "cell_type": "code",
      "source": [
        "from meu_modulo import calcular_energia_potencial"
      ],
      "metadata": {
        "id": "DAksS88o4B9h"
      },
      "execution_count": null,
      "outputs": []
    },
    {
      "cell_type": "code",
      "source": [
        "calcular_energia_potencial"
      ],
      "metadata": {
        "id": "8U8hR09Q4FxP",
        "outputId": "1375a5b9-2021-4ba0-ecd9-b6962103b5b2",
        "colab": {
          "base_uri": "https://localhost:8080/",
          "height": 122
        }
      },
      "execution_count": null,
      "outputs": [
        {
          "output_type": "execute_result",
          "data": {
            "text/plain": [
              "<function meu_modulo.calcular_energia_potencial(massa, altura)>"
            ],
            "text/html": [
              "<div style=\"max-width:800px; border: 1px solid var(--colab-border-color);\"><style>\n",
              "      pre.function-repr-contents {\n",
              "        overflow-x: auto;\n",
              "        padding: 8px 12px;\n",
              "        max-height: 500px;\n",
              "      }\n",
              "\n",
              "      pre.function-repr-contents.function-repr-contents-collapsed {\n",
              "        cursor: pointer;\n",
              "        max-height: 100px;\n",
              "      }\n",
              "    </style>\n",
              "    <pre style=\"white-space: initial; background:\n",
              "         var(--colab-secondary-surface-color); padding: 8px 12px;\n",
              "         border-bottom: 1px solid var(--colab-border-color);\"><b>meu_modulo.calcular_energia_potencial</b><br/>def calcular_energia_potencial(massa, altura)</pre><pre class=\"function-repr-contents function-repr-contents-collapsed\" style=\"\"><a class=\"filepath\" style=\"display:none\" href=\"#\">/content/drive/MyDrive/Colab Notebooks/PretaLab - Python para análise de dados/Módulo 1/meu_modulo.py</a>Calcula a energia potencial gravitacional</pre>\n",
              "      <script>\n",
              "      if (google.colab.kernel.accessAllowed && google.colab.files && google.colab.files.view) {\n",
              "        for (const element of document.querySelectorAll('.filepath')) {\n",
              "          element.style.display = 'block'\n",
              "          element.onclick = (event) => {\n",
              "            event.preventDefault();\n",
              "            event.stopPropagation();\n",
              "            google.colab.files.view(element.textContent, 12);\n",
              "          };\n",
              "        }\n",
              "      }\n",
              "      for (const element of document.querySelectorAll('.function-repr-contents')) {\n",
              "        element.onclick = (event) => {\n",
              "          event.preventDefault();\n",
              "          event.stopPropagation();\n",
              "          element.classList.toggle('function-repr-contents-collapsed');\n",
              "        };\n",
              "      }\n",
              "      </script>\n",
              "      </div>"
            ]
          },
          "metadata": {},
          "execution_count": 52
        }
      ]
    },
    {
      "cell_type": "code",
      "source": [
        "calcular_energia_potencial(10, 1.70)"
      ],
      "metadata": {
        "id": "UQaWgFES4mlF",
        "outputId": "3f0c58e3-08aa-4a47-a9a0-aa68b69c8c00",
        "colab": {
          "base_uri": "https://localhost:8080/"
        }
      },
      "execution_count": null,
      "outputs": [
        {
          "output_type": "execute_result",
          "data": {
            "text/plain": [
              "166.77"
            ]
          },
          "metadata": {},
          "execution_count": 53
        }
      ]
    },
    {
      "cell_type": "markdown",
      "source": [
        " ## **Por que usar Módulos?** 💡\n",
        "\n",
        " 1. Organização: Separar o código em diferentes arquivos (ou módulos) torna o projeto mais organizado.\n",
        "\n",
        "2. Reutilização: Você pode reutilizar os mesmos módulos em outros projetos.\n",
        "\n",
        "3. Facilidade de Manutenção: Se precisar alterar algo em uma parte específica do código, basta ir ao módulo correspondente."
      ],
      "metadata": {
        "id": "LlARW5bmBXbj"
      }
    },
    {
      "cell_type": "markdown",
      "source": [
        "#### Exemplo avançado:\n",
        "\n",
        "**Cenário: Análise de Dados de Vendas**\n",
        "\n",
        "Queremos realizar várias operações no dataset:\n",
        "\n",
        "1. Carregar os dados de vendas de um arquivo CSV.\n",
        "\n",
        "2. Limpar os dados e tratar valores ausentes.\n",
        "\n",
        "3. Analisar as vendas mensais.\n",
        "4. Gerar gráficos das tendências de vendas."
      ],
      "metadata": {
        "id": "WuQygCDdDfJj"
      }
    },
    {
      "cell_type": "markdown",
      "source": [
        "**Vamos criar uma base de dados**"
      ],
      "metadata": {
        "id": "C-MoFbhYFTcI"
      }
    },
    {
      "cell_type": "code",
      "source": [
        "# importa os módulos/bibliotecas\n",
        "%pip install datetime\n",
        "%pip install timedelta from datetime\n",
        "import csv\n",
        "import random\n",
        "from datetime import datetime, timedelta"
      ],
      "metadata": {
        "id": "WLBICSfEbjd1",
        "colab": {
          "base_uri": "https://localhost:8080/"
        },
        "outputId": "db315ef0-bffc-43b4-c809-8075543876dc"
      },
      "execution_count": null,
      "outputs": [
        {
          "output_type": "stream",
          "name": "stdout",
          "text": [
            "Requirement already satisfied: datetime in /usr/local/lib/python3.10/dist-packages (5.5)\n",
            "Requirement already satisfied: zope.interface in /usr/local/lib/python3.10/dist-packages (from datetime) (7.0.3)\n",
            "Requirement already satisfied: pytz in /usr/local/lib/python3.10/dist-packages (from datetime) (2024.2)\n",
            "Requirement already satisfied: setuptools in /usr/local/lib/python3.10/dist-packages (from zope.interface->datetime) (71.0.4)\n",
            "Collecting timedelta\n",
            "  Downloading timedelta-2020.12.3.tar.gz (1.6 kB)\n",
            "  Preparing metadata (setup.py) ... \u001b[?25l\u001b[?25hdone\n",
            "\u001b[31mERROR: Could not find a version that satisfies the requirement from (from versions: none)\u001b[0m\u001b[31m\n",
            "\u001b[0m\u001b[31mERROR: No matching distribution found for from\u001b[0m\u001b[31m\n",
            "\u001b[0m"
          ]
        }
      ]
    },
    {
      "cell_type": "code",
      "source": [
        "datetime.now() -  - timedelta(days=365)"
      ],
      "metadata": {
        "colab": {
          "base_uri": "https://localhost:8080/"
        },
        "id": "tQALJlOVblZJ",
        "outputId": "7a928f7d-599c-4764-d22c-e9cd8d20eb7e"
      },
      "execution_count": null,
      "outputs": [
        {
          "output_type": "execute_result",
          "data": {
            "text/plain": [
              "datetime.datetime(2025, 9, 15, 23, 17, 19, 86021)"
            ]
          },
          "metadata": {},
          "execution_count": 62
        }
      ]
    },
    {
      "cell_type": "code",
      "source": [
        "# Função para criar dados fictícios de vendas\n",
        "conteudo_arquivo = '''\n",
        "import csv\n",
        "import random\n",
        "from datetime import datetime, timedelta\n",
        "\n",
        "def criar_arquivo_vendas(nome_arquivo, num_linhas):\n",
        "    # Definir os nomes das colunas e os valores fictícios\n",
        "    # listas em python []\n",
        "    colunas = ['Data', 'Produto', 'Vendas', 'Valor']\n",
        "    produtos = ['Produto A', 'Produto B', 'Produto C', 'Produto D']\n",
        "\n",
        "    # Gerar uma data inicial\n",
        "    data_inicial = datetime.now() - timedelta(days=365)\n",
        "\n",
        "    # Abrir o arquivo para escrita\n",
        "    with open(nome_arquivo, mode='w', newline='') as file:\n",
        "        writer = csv.writer(file)\n",
        "\n",
        "        # Escrever o cabeçalho\n",
        "        writer.writerow(colunas)\n",
        "\n",
        "        # Gerar os dados fictícios\n",
        "        for _ in range(num_linhas):\n",
        "            data_venda = data_inicial + timedelta(days=random.randint(1, 365))\n",
        "            produto = random.choice(produtos)\n",
        "            vendas = random.randint(1, 100)\n",
        "            valor = round(vendas * random.uniform(10.0, 100.0), 2)\n",
        "\n",
        "            # Escrever a linha no arquivo\n",
        "            writer.writerow([data_venda.strftime('%Y-%m-%d'), produto, vendas, valor])\n",
        "'''\n",
        "\n",
        "with open('dados_ficticias.py', 'w') as arquivo:\n",
        "    arquivo.write(conteudo_arquivo)\n",
        "\n"
      ],
      "metadata": {
        "id": "4mf15YrRFRhj"
      },
      "execution_count": null,
      "outputs": []
    },
    {
      "cell_type": "code",
      "source": [
        "# Criar arquivo de vendas fictícias\n",
        "planilha = criar_arquivo_vendas('vendas_ficticias.csv', 10000)"
      ],
      "metadata": {
        "collapsed": true,
        "id": "z9H_w4xgbuuA"
      },
      "execution_count": null,
      "outputs": []
    },
    {
      "cell_type": "code",
      "source": [
        "import dados_ficticias as df\n",
        "from datetime import datetime, timedelta\n",
        "\n",
        "planilha = df.criar_arquivo_vendas('vendas_falsas', 10000)"
      ],
      "metadata": {
        "colab": {
          "base_uri": "https://localhost:8080/",
          "height": 314
        },
        "id": "3o1cDGCzB3J3",
        "outputId": "2da17a4f-b3ce-4c4f-d9c3-fc94eddb846e"
      },
      "execution_count": null,
      "outputs": [
        {
          "output_type": "error",
          "ename": "NameError",
          "evalue": "name 'datetime' is not defined",
          "traceback": [
            "\u001b[0;31m---------------------------------------------------------------------------\u001b[0m",
            "\u001b[0;31mNameError\u001b[0m                                 Traceback (most recent call last)",
            "\u001b[0;32m<ipython-input-98-b2bb8ef6964c>\u001b[0m in \u001b[0;36m<cell line: 4>\u001b[0;34m()\u001b[0m\n\u001b[1;32m      2\u001b[0m \u001b[0;32mfrom\u001b[0m \u001b[0mdatetime\u001b[0m \u001b[0;32mimport\u001b[0m \u001b[0mdatetime\u001b[0m\u001b[0;34m,\u001b[0m \u001b[0mtimedelta\u001b[0m\u001b[0;34m\u001b[0m\u001b[0;34m\u001b[0m\u001b[0m\n\u001b[1;32m      3\u001b[0m \u001b[0;34m\u001b[0m\u001b[0m\n\u001b[0;32m----> 4\u001b[0;31m \u001b[0mplanilha\u001b[0m \u001b[0;34m=\u001b[0m \u001b[0mdf\u001b[0m\u001b[0;34m.\u001b[0m\u001b[0mcriar_arquivo_vendas\u001b[0m\u001b[0;34m(\u001b[0m\u001b[0;34m'vendas_falsas'\u001b[0m\u001b[0;34m,\u001b[0m \u001b[0;36m10000\u001b[0m\u001b[0;34m)\u001b[0m\u001b[0;34m\u001b[0m\u001b[0;34m\u001b[0m\u001b[0m\n\u001b[0m",
            "\u001b[0;32m/content/drive/MyDrive/Colab Notebooks/PretaLab - Python para análise de dados/Módulo 1/dados_ficticias.py\u001b[0m in \u001b[0;36mcriar_arquivo_vendas\u001b[0;34m(nome_arquivo, num_linhas)\u001b[0m\n\u001b[1;32m      7\u001b[0m     \u001b[0;31m# Definir os nomes das colunas e os valores fictícios\u001b[0m\u001b[0;34m\u001b[0m\u001b[0;34m\u001b[0m\u001b[0m\n\u001b[1;32m      8\u001b[0m     \u001b[0;31m# listas em python []\u001b[0m\u001b[0;34m\u001b[0m\u001b[0;34m\u001b[0m\u001b[0m\n\u001b[0;32m----> 9\u001b[0;31m     \u001b[0mcolunas\u001b[0m \u001b[0;34m=\u001b[0m \u001b[0;34m[\u001b[0m\u001b[0;34m'Data'\u001b[0m\u001b[0;34m,\u001b[0m \u001b[0;34m'Produto'\u001b[0m\u001b[0;34m,\u001b[0m \u001b[0;34m'Vendas'\u001b[0m\u001b[0;34m,\u001b[0m \u001b[0;34m'Valor'\u001b[0m\u001b[0;34m]\u001b[0m\u001b[0;34m\u001b[0m\u001b[0;34m\u001b[0m\u001b[0m\n\u001b[0m\u001b[1;32m     10\u001b[0m     \u001b[0mprodutos\u001b[0m \u001b[0;34m=\u001b[0m \u001b[0;34m[\u001b[0m\u001b[0;34m'Produto A'\u001b[0m\u001b[0;34m,\u001b[0m \u001b[0;34m'Produto B'\u001b[0m\u001b[0;34m,\u001b[0m \u001b[0;34m'Produto C'\u001b[0m\u001b[0;34m,\u001b[0m \u001b[0;34m'Produto D'\u001b[0m\u001b[0;34m]\u001b[0m\u001b[0;34m\u001b[0m\u001b[0;34m\u001b[0m\u001b[0m\n\u001b[1;32m     11\u001b[0m \u001b[0;34m\u001b[0m\u001b[0m\n",
            "\u001b[0;31mNameError\u001b[0m: name 'datetime' is not defined"
          ]
        }
      ]
    },
    {
      "cell_type": "code",
      "source": [
        "planilha"
      ],
      "metadata": {
        "colab": {
          "base_uri": "https://localhost:8080/"
        },
        "id": "pYckmqUWCDMf",
        "outputId": "e4caddb5-bd12-48b6-8099-05b4f0179064"
      },
      "execution_count": null,
      "outputs": [
        {
          "output_type": "execute_result",
          "data": {
            "text/plain": [
              "(<function dados_ficticias.criar_arquivo_vendas(nome_arquivo, num_linhas)>,\n",
              " 1000)"
            ]
          },
          "metadata": {},
          "execution_count": 93
        }
      ]
    },
    {
      "cell_type": "markdown",
      "source": [],
      "metadata": {
        "id": "jCkknYXZFRE7"
      }
    },
    {
      "cell_type": "markdown",
      "source": [
        "**Código sem Módulos: Monolítico e Ineficiente**\n",
        "\n",
        "Vamos começar com um script que realiza todas as operações em um único arquivo. Isso torna o código longo e difícil de manter."
      ],
      "metadata": {
        "id": "qT2qvQcJD6lj"
      }
    },
    {
      "cell_type": "code",
      "source": [
        "import pandas as pd\n",
        "import matplotlib.pyplot as plt\n",
        "import numpy as np\n",
        "import csv\n",
        "import random\n",
        "from datetime import datetime, timedelta\n",
        "\n",
        "\n",
        "def criar_arquivo_vendas(nome_arquivo, num_linhas):\n",
        "    # Definir os nomes das colunas e os valores fictícios\n",
        "    # listas em python []\n",
        "    colunas = ['Data', 'Produto', 'Vendas', 'Valor']\n",
        "    produtos = ['Produto A', 'Produto B', 'Produto C', 'Produto D']\n",
        "\n",
        "    # Gerar uma data inicial\n",
        "    data_inicial = datetime.now() - timedelta(days=365)\n",
        "\n",
        "    # Abrir o arquivo para escrita\n",
        "    with open(nome_arquivo, mode='w', newline='') as file:\n",
        "        writer = csv.writer(file)\n",
        "\n",
        "        # Escrever o cabeçalho\n",
        "        writer.writerow(colunas)\n",
        "\n",
        "        # Gerar os dados fictícios\n",
        "        for _ in range(num_linhas):\n",
        "            data_venda = data_inicial + timedelta(days=random.randint(1, 365))\n",
        "            produto = random.choice(produtos)\n",
        "            vendas = random.randint(1, 100)\n",
        "            valor = round(vendas * random.uniform(10.0, 100.0), 2)\n",
        "\n",
        "            # Escrever a linha no arquivo\n",
        "            writer.writerow([data_venda.strftime('%Y-%m-%d'), produto, vendas, valor])\n",
        "\n",
        "# 1. Carregar os dados de vendas\n",
        "def carregar_dados(arquivo_csv):\n",
        "    return pd.read_csv(arquivo_csv)\n",
        "\n",
        "# 2. Limpar os dados\n",
        "def limpar_dados(df):\n",
        "    df = df.dropna()  # Remover valores nulos\n",
        "    df['Data'] = pd.to_datetime(df['Data'])  # Converter a coluna Data para datetime\n",
        "    return df\n",
        "\n",
        "# 3. Analisar vendas mensais\n",
        "def analisar_vendas_mensais(df):\n",
        "    df['Mes'] = df['Data'].dt.to_period('M')\n",
        "    vendas_mensais = df.groupby('Mes')['Vendas'].sum()\n",
        "    return vendas_mensais\n",
        "\n",
        "# 4. Gerar gráficos das tendências de vendas\n",
        "def gerar_grafico_vendas(vendas_mensais):\n",
        "    plt.figure(figsize=(10, 6))\n",
        "    plt.plot(vendas_mensais.index.astype(str), vendas_mensais.values, marker='o')\n",
        "    plt.title('Tendência de Vendas Mensais')\n",
        "    plt.xlabel('Mês')\n",
        "    plt.ylabel('Vendas')\n",
        "    plt.grid(True)\n",
        "    plt.show()\n",
        "\n",
        "# 5. Executar análise completa\n",
        "def executar_analise(arquivo_csv):\n",
        "    # Carregar os dados\n",
        "    df = carregar_dados(arquivo_csv)\n",
        "\n",
        "    # Limpar os dados\n",
        "    df = limpar_dados(df)\n",
        "\n",
        "    # Analisar vendas mensais\n",
        "    vendas_mensais = analisar_vendas_mensais(df)\n",
        "\n",
        "    # Gerar gráficos\n",
        "    gerar_grafico_vendas(vendas_mensais)\n",
        "\n",
        "# Chamando a função principal\n",
        "arquivo_csv =\n",
        "executar_analise(arquivo_csv)\n"
      ],
      "metadata": {
        "colab": {
          "base_uri": "https://localhost:8080/",
          "height": 110
        },
        "collapsed": true,
        "id": "va8Tyo3WCwzK",
        "outputId": "f4b4751a-8373-4aa4-a593-f1eb2e1f0c56"
      },
      "execution_count": null,
      "outputs": [
        {
          "output_type": "error",
          "ename": "SyntaxError",
          "evalue": "invalid syntax (<ipython-input-68-1b71c21c5d2d>, line 46)",
          "traceback": [
            "\u001b[0;36m  File \u001b[0;32m\"<ipython-input-68-1b71c21c5d2d>\"\u001b[0;36m, line \u001b[0;32m46\u001b[0m\n\u001b[0;31m    arquivo_csv =\u001b[0m\n\u001b[0m                  ^\u001b[0m\n\u001b[0;31mSyntaxError\u001b[0m\u001b[0;31m:\u001b[0m invalid syntax\n"
          ]
        }
      ]
    },
    {
      "cell_type": "markdown",
      "source": [
        "**Código com Módulos: Organizado e Reutilizável**\n",
        "\n",
        "Agora vamos dividir o código em módulos. Cada módulo será responsável por uma parte específica da análise."
      ],
      "metadata": {
        "id": "-bNkrc45EgIm"
      }
    },
    {
      "cell_type": "code",
      "source": [
        "#1. Módulo de Carregamento de Dados (modulo_dados.py)\n",
        "import pandas as pd\n",
        "\n",
        "def carregar_dados(arquivo_csv):\n",
        "    \"\"\"Carrega o arquivo CSV em um DataFrame do pandas.\"\"\"\n",
        "    return pd.read_csv(arquivo_csv)\n",
        "\n",
        "def limpar_dados(df):\n",
        "    \"\"\"Limpa o DataFrame, removendo valores ausentes e convertendo a coluna de Data.\"\"\"\n",
        "    df = df.dropna()\n",
        "    df['Data'] = pd.to_datetime(df['Data'])\n",
        "    return df\n"
      ],
      "metadata": {
        "id": "HMaUssv5EkZi"
      },
      "execution_count": null,
      "outputs": []
    },
    {
      "cell_type": "code",
      "source": [
        "def analisar_vendas_mensais(df):\n",
        "    \"\"\"Analisa as vendas mensais agrupando por mês.\"\"\"\n",
        "    df['Mes'] = df['Data'].dt.to_period('M')\n",
        "    vendas_mensais = df.groupby('Mes')['Vendas'].sum()\n",
        "    return vendas_mensais\n"
      ],
      "metadata": {
        "id": "Wa6nml5vEpa7"
      },
      "execution_count": null,
      "outputs": []
    },
    {
      "cell_type": "code",
      "source": [
        "def analisar_vendas_mensais(df):\n",
        "    \"\"\"Analisa as vendas mensais agrupando por mês.\"\"\"\n",
        "    df['Mes'] = df['Data'].dt.to_period('M')\n",
        "    vendas_mensais = df.groupby('Mes')['Vendas'].sum()\n",
        "    return vendas_mensais\n"
      ],
      "metadata": {
        "id": "TaF4EzyrEtTm"
      },
      "execution_count": null,
      "outputs": []
    },
    {
      "cell_type": "code",
      "source": [
        "import matplotlib.pyplot as plt\n",
        "\n",
        "def gerar_grafico_vendas(vendas_mensais):\n",
        "    \"\"\"Gera um gráfico de vendas mensais usando Matplotlib.\"\"\"\n",
        "    plt.figure(figsize=(10, 6))\n",
        "    plt.plot(vendas_mensais.index.astype(str), vendas_mensais.values, marker='o')\n",
        "    plt.title('Tendência de Vendas Mensais')\n",
        "    plt.xlabel('Mês')\n",
        "    plt.ylabel('Vendas')\n",
        "    plt.grid(True)\n",
        "    plt.show()\n"
      ],
      "metadata": {
        "id": "tCHEMyyEExJq"
      },
      "execution_count": null,
      "outputs": []
    },
    {
      "cell_type": "code",
      "source": [
        "import modulo_dados as md\n",
        "import modulo_analise as ma\n",
        "import modulo_visualizacao as mv\n",
        "\n",
        "# 5. Executar análise completa\n",
        "def executar_analise(arquivo_csv):\n",
        "    # Carregar e limpar os dados\n",
        "    df = md.carregar_dados(arquivo_csv)\n",
        "    df = md.limpar_dados(df)\n",
        "\n",
        "    # Analisar vendas mensais\n",
        "    vendas_mensais = ma.analisar_vendas_mensais(df)\n",
        "\n",
        "    # Gerar gráficos\n",
        "    mv.gerar_grafico_vendas(vendas_mensais)\n",
        "\n",
        "# Chamando a função principal\n",
        "arquivo_csv = 'vendas.csv'\n",
        "executar_analise(arquivo_csv)\n"
      ],
      "metadata": {
        "id": "CpYJFDP8EzKf"
      },
      "execution_count": null,
      "outputs": []
    },
    {
      "cell_type": "markdown",
      "source": [
        "**Benefícios do Código com Módulos**\n",
        "\n",
        "1. Organização: Cada tarefa está separada em seu próprio módulo (modulo_dados.py, modulo_analise.py, modulo_visualizacao.py). Isso facilita muito a manutenção e leitura do código.\n",
        "\n",
        "2. Reutilização: Agora, se você precisar carregar ou limpar dados em outro projeto, basta importar o modulo_dados. O mesmo vale para as funções de análise e visualização.\n",
        "\n",
        "3. Escalabilidade: Se o projeto crescer e você precisar adicionar mais funcionalidades (como análise de vendas por região ou por produto), basta adicionar mais módulos específicos sem bagunçar o código principal.\n",
        "\n",
        "4.Facilidade de Testes: Agora, você pode testar cada módulo separadamente. Por exemplo, pode verificar se o modulo_analise funciona corretamente sem precisar executar o código de visualização."
      ],
      "metadata": {
        "id": "V56an4CEE17W"
      }
    },
    {
      "cell_type": "markdown",
      "metadata": {
        "id": "2ebf9aa9"
      },
      "source": [
        "## Pacote Personalizado"
      ]
    },
    {
      "cell_type": "markdown",
      "metadata": {
        "id": "573b4c84"
      },
      "source": [
        "Vamos criar um pacote chamado `meu_pacote` com dois módulos e um arquivo `__init__.py`."
      ]
    },
    {
      "cell_type": "code",
      "source": [
        "touch  meu_modulo.py"
      ],
      "metadata": {
        "colab": {
          "base_uri": "https://localhost:8080/",
          "height": 106
        },
        "id": "e3vM-6B2HdRz",
        "outputId": "5714eb5d-5ebe-4de7-aacb-b31980f58f64"
      },
      "execution_count": null,
      "outputs": [
        {
          "output_type": "error",
          "ename": "SyntaxError",
          "evalue": "invalid syntax (<ipython-input-19-e42825d694a7>, line 1)",
          "traceback": [
            "\u001b[0;36m  File \u001b[0;32m\"<ipython-input-19-e42825d694a7>\"\u001b[0;36m, line \u001b[0;32m1\u001b[0m\n\u001b[0;31m    touch  meu_modulo.py\u001b[0m\n\u001b[0m           ^\u001b[0m\n\u001b[0;31mSyntaxError\u001b[0m\u001b[0;31m:\u001b[0m invalid syntax\n"
          ]
        }
      ]
    },
    {
      "cell_type": "code",
      "execution_count": null,
      "metadata": {
        "id": "fea08fdb",
        "colab": {
          "base_uri": "https://localhost:8080/",
          "height": 193
        },
        "outputId": "30cf745d-7bea-4a85-94b2-2cae989cf26e"
      },
      "outputs": [
        {
          "output_type": "error",
          "ename": "NameError",
          "evalue": "name 'modulo1' is not defined",
          "traceback": [
            "\u001b[0;31m---------------------------------------------------------------------------\u001b[0m",
            "\u001b[0;31mNameError\u001b[0m                                 Traceback (most recent call last)",
            "\u001b[0;32m<ipython-input-16-1cf87e7be6b2>\u001b[0m in \u001b[0;36m<cell line: 1>\u001b[0;34m()\u001b[0m\n\u001b[0;32m----> 1\u001b[0;31m \u001b[0mArquivo\u001b[0m\u001b[0;34m:\u001b[0m \u001b[0mmodulo1\u001b[0m\u001b[0;34m.\u001b[0m\u001b[0mpy\u001b[0m\u001b[0;34m\u001b[0m\u001b[0;34m\u001b[0m\u001b[0m\n\u001b[0m\u001b[1;32m      2\u001b[0m \u001b[0;34m\u001b[0m\u001b[0m\n\u001b[1;32m      3\u001b[0m \u001b[0;32mdef\u001b[0m \u001b[0msaudacao\u001b[0m\u001b[0;34m(\u001b[0m\u001b[0mnome\u001b[0m\u001b[0;34m)\u001b[0m\u001b[0;34m:\u001b[0m\u001b[0;34m\u001b[0m\u001b[0;34m\u001b[0m\u001b[0m\n\u001b[1;32m      4\u001b[0m     \u001b[0;32mreturn\u001b[0m \u001b[0;34mf\"Olá, {nome}!\"\u001b[0m\u001b[0;34m\u001b[0m\u001b[0;34m\u001b[0m\u001b[0m\n",
            "\u001b[0;31mNameError\u001b[0m: name 'modulo1' is not defined"
          ]
        }
      ],
      "source": [
        "#Arquivo: modulo1.py\n",
        "\n",
        "def saudacao(nome):\n",
        "    return f\"Olá, {nome}!\"\n"
      ]
    },
    {
      "cell_type": "code",
      "execution_count": null,
      "metadata": {
        "id": "ae41a66d"
      },
      "outputs": [],
      "source": [
        "\n",
        "# Arquivo: meu_pacote/modulo2.py\n",
        "\n",
        "def soma(a, b):\n",
        "    return a + b\n"
      ]
    },
    {
      "cell_type": "code",
      "execution_count": null,
      "metadata": {
        "id": "88645a2b"
      },
      "outputs": [],
      "source": [
        "\n",
        "# Arquivo: meu_pacote/__init__.py\n",
        "\n",
        "from .modulo1 import saudacao\n",
        "from .modulo2 import soma\n"
      ]
    },
    {
      "cell_type": "markdown",
      "metadata": {
        "id": "bbaefc25"
      },
      "source": [
        "Agora, vamos usar o pacote no script principal."
      ]
    },
    {
      "cell_type": "code",
      "execution_count": null,
      "metadata": {
        "id": "87808728"
      },
      "outputs": [],
      "source": [
        "\n",
        "# Arquivo: main.py\n",
        "\n",
        "from meu_pacote import saudacao, soma\n",
        "\n",
        "# Usando a função saudacao\n",
        "print(saudacao(\"Pedro\"))\n",
        "\n",
        "# Usando a função soma\n",
        "resultado = soma(10, 20)\n",
        "print(f\"Soma: {resultado}\")\n"
      ]
    }
  ]
}