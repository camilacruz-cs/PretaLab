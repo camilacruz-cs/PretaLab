{
  "nbformat": 4,
  "nbformat_minor": 0,
  "metadata": {
    "colab": {
      "provenance": [],
      "authorship_tag": "ABX9TyN7uHMKgQa5PUl+4icvl/4c",
      "include_colab_link": true
    },
    "kernelspec": {
      "name": "python3",
      "display_name": "Python 3"
    },
    "language_info": {
      "name": "python"
    }
  },
  "cells": [
    {
      "cell_type": "markdown",
      "metadata": {
        "id": "view-in-github",
        "colab_type": "text"
      },
      "source": [
        "<a href=\"https://colab.research.google.com/github/camilacruz-cs/PretaLab/blob/main/mod1/%20aula1_manuseio_arquivos.ipynb\" target=\"_parent\"><img src=\"https://colab.research.google.com/assets/colab-badge.svg\" alt=\"Open In Colab\"/></a>"
      ]
    },
    {
      "cell_type": "markdown",
      "source": [
        "1º Passo -> Organizar o ambiente que será utilizado.\n"
      ],
      "metadata": {
        "id": "l_G3ww2eGYYL"
      }
    },
    {
      "cell_type": "code",
      "execution_count": null,
      "metadata": {
        "colab": {
          "base_uri": "https://localhost:8080/"
        },
        "id": "uqvqmLwvBzLl",
        "outputId": "2fa7a7d3-1f5f-467a-fe01-d6b8e322bcf6"
      },
      "outputs": [
        {
          "output_type": "stream",
          "name": "stdout",
          "text": [
            "Drive already mounted at /content/drive/; to attempt to forcibly remount, call drive.mount(\"/content/drive/\", force_remount=True).\n"
          ]
        }
      ],
      "source": [
        "#Importa a biblioteca do colab e monta o drive\n",
        "\n",
        "from google.colab import drive\n",
        "drive.mount('/content/drive/')"
      ]
    },
    {
      "cell_type": "code",
      "source": [
        "!ls /content/drive"
      ],
      "metadata": {
        "colab": {
          "base_uri": "https://localhost:8080/"
        },
        "id": "TmRxGYWMCCS3",
        "outputId": "1c7ec4a2-a7ff-476c-998f-087ff3077e41"
      },
      "execution_count": null,
      "outputs": [
        {
          "output_type": "stream",
          "name": "stdout",
          "text": [
            "MyDrive\n"
          ]
        }
      ]
    },
    {
      "cell_type": "code",
      "source": [
        "!ls  /content/drive/MyDrive/PretaLab/"
      ],
      "metadata": {
        "colab": {
          "base_uri": "https://localhost:8080/"
        },
        "id": "G5YEnLiaLMlJ",
        "outputId": "2f21f919-3fcb-4207-929b-84e61d95bfcb"
      },
      "execution_count": null,
      "outputs": [
        {
          "output_type": "stream",
          "name": "stdout",
          "text": [
            "ls: cannot access '/content/drive/MyDrive/PretaLab/': No such file or directory\n"
          ]
        }
      ]
    },
    {
      "cell_type": "code",
      "source": [
        "%cd /content/drive/MyDrive/PretaLab - Python para análise de dados/Módulo 1"
      ],
      "metadata": {
        "colab": {
          "base_uri": "https://localhost:8080/"
        },
        "id": "I08bG-j9CHgw",
        "outputId": "0ff65ba7-1e20-423e-f0ba-ab6b1d3f5a64"
      },
      "execution_count": null,
      "outputs": [
        {
          "output_type": "stream",
          "name": "stdout",
          "text": [
            "/content/drive/MyDrive/PretaLab - Python para análise de dados/Módulo 1\n"
          ]
        }
      ]
    },
    {
      "cell_type": "markdown",
      "source": [
        "## Leitura de Arquivos"
      ],
      "metadata": {
        "id": "4t6HSMB1Fgor"
      }
    },
    {
      "cell_type": "code",
      "source": [
        "#Sempre importante lembrar. Usando esse modo, não pode esquecer de FECHAR o arquivo para não gerar erros desnecessários.\n",
        "\n",
        "arquivo = open('pseudocodigo.txt', 'r')\n",
        "conteudo = arquivo.read()\n",
        "print(conteudo)\n",
        "arquivo.close()"
      ],
      "metadata": {
        "colab": {
          "base_uri": "https://localhost:8080/"
        },
        "id": "QFAMsLmOFj3i",
        "outputId": "d80ffe87-5796-45fc-9fb7-45a5b2ad8619"
      },
      "execution_count": 30,
      "outputs": [
        {
          "output_type": "stream",
          "name": "stdout",
          "text": [
            "Para desenvolver o jogo da forca em Python, você pode seguir os seguintes passos:\n",
            "\n",
            "\n",
            "1- Definir a lista de palavras possíveis\n",
            "\n",
            "2- Escolher uma palavra aleatória da lista\n",
            "\n",
            "3- Criar uma lista vazia para armazenar as letras adivinhadas\n",
            "\n",
            "4- Definir o número máximo de tentativas permitidas\n",
            "\n",
            "5- Enquanto o número de tentativas não atingir o limite máximo:\n",
            "\n",
            "a. Mostrar a palavra como uma série de underscores, com as letras adivinhadas preenchidas nos espaços corretos\n",
            "\n",
            "b. Pedir ao jogador que adivinhe uma letra\n",
            "\n",
            "c. Verificar se a letra adivinhada está na palavra\n",
            "\n",
            "d. Se a letra adivinhada está na palavra, adicionar a letra à lista de letras adivinhadas e atualizar a exibição da palavra\n",
            "\n",
            "e. Se a letra adivinhada não está na palavra, reduzir o número de tentativas restantes e exibir a mensagem \"Letra incorreta. Tentativas restantes: [número de tentativas restantes]\"\n",
            "\n",
            "f. Verificar se todas as letras da palavra foram adivinhadas\n",
            "\n",
            "g. Se todas as letras foram adivinhadas, exibir a mensagem \"Você venceu!\"\n",
            "\n",
            "h. Se o número de tentativas restantes chegar a zero, exibir a mensagem \"Você perdeu. A palavra era [palavra escolhida]\" e encerrar o jogo.\n"
          ]
        }
      ]
    },
    {
      "cell_type": "code",
      "source": [
        "#Abrindo o arquivo no modo de leitura ('r')\n",
        "\n",
        "with open ('pseudocodigo.txt', 'r') as arquivo:\n",
        "  conteudo = arquivo.read()\n",
        "  print(conteudo)"
      ],
      "metadata": {
        "colab": {
          "base_uri": "https://localhost:8080/"
        },
        "id": "0JLpi1PZHEuQ",
        "outputId": "1c096b69-214a-455a-f7ec-a7d1e71d9d1a"
      },
      "execution_count": 29,
      "outputs": [
        {
          "output_type": "stream",
          "name": "stdout",
          "text": [
            "Para desenvolver o jogo da forca em Python, você pode seguir os seguintes passos:\n",
            "\n",
            "\n",
            "1- Definir a lista de palavras possíveis\n",
            "\n",
            "2- Escolher uma palavra aleatória da lista\n",
            "\n",
            "3- Criar uma lista vazia para armazenar as letras adivinhadas\n",
            "\n",
            "4- Definir o número máximo de tentativas permitidas\n",
            "\n",
            "5- Enquanto o número de tentativas não atingir o limite máximo:\n",
            "\n",
            "a. Mostrar a palavra como uma série de underscores, com as letras adivinhadas preenchidas nos espaços corretos\n",
            "\n",
            "b. Pedir ao jogador que adivinhe uma letra\n",
            "\n",
            "c. Verificar se a letra adivinhada está na palavra\n",
            "\n",
            "d. Se a letra adivinhada está na palavra, adicionar a letra à lista de letras adivinhadas e atualizar a exibição da palavra\n",
            "\n",
            "e. Se a letra adivinhada não está na palavra, reduzir o número de tentativas restantes e exibir a mensagem \"Letra incorreta. Tentativas restantes: [número de tentativas restantes]\"\n",
            "\n",
            "f. Verificar se todas as letras da palavra foram adivinhadas\n",
            "\n",
            "g. Se todas as letras foram adivinhadas, exibir a mensagem \"Você venceu!\"\n",
            "\n",
            "h. Se o número de tentativas restantes chegar a zero, exibir a mensagem \"Você perdeu. A palavra era [palavra escolhida]\" e encerrar o jogo.\n"
          ]
        }
      ]
    },
    {
      "cell_type": "code",
      "source": [
        "#Abrindo o arquivo no modo de leitura ('r')\n",
        "\n",
        "##Readlines - Lê várias linhas. Transforma em uma lista de strings.\n",
        "\n",
        "with open ('pseudocodigo.txt', 'r') as arquivo:\n",
        "  conteudo = arquivo.readlines()\n",
        "  print(conteudo)"
      ],
      "metadata": {
        "colab": {
          "base_uri": "https://localhost:8080/"
        },
        "id": "kBQgSCoOHwxA",
        "outputId": "eea15eb3-0e5a-4e4d-91ce-4d3be8414054"
      },
      "execution_count": 33,
      "outputs": [
        {
          "output_type": "stream",
          "name": "stdout",
          "text": [
            "['Para desenvolver o jogo da forca em Python, você pode seguir os seguintes passos:\\n', '\\n', '\\n', '1- Definir a lista de palavras possíveis\\n', '\\n', '2- Escolher uma palavra aleatória da lista\\n', '\\n', '3- Criar uma lista vazia para armazenar as letras adivinhadas\\n', '\\n', '4- Definir o número máximo de tentativas permitidas\\n', '\\n', '5- Enquanto o número de tentativas não atingir o limite máximo:\\n', '\\n', 'a. Mostrar a palavra como uma série de underscores, com as letras adivinhadas preenchidas nos espaços corretos\\n', '\\n', 'b. Pedir ao jogador que adivinhe uma letra\\n', '\\n', 'c. Verificar se a letra adivinhada está na palavra\\n', '\\n', 'd. Se a letra adivinhada está na palavra, adicionar a letra à lista de letras adivinhadas e atualizar a exibição da palavra\\n', '\\n', 'e. Se a letra adivinhada não está na palavra, reduzir o número de tentativas restantes e exibir a mensagem \"Letra incorreta. Tentativas restantes: [número de tentativas restantes]\"\\n', '\\n', 'f. Verificar se todas as letras da palavra foram adivinhadas\\n', '\\n', 'g. Se todas as letras foram adivinhadas, exibir a mensagem \"Você venceu!\"\\n', '\\n', 'h. Se o número de tentativas restantes chegar a zero, exibir a mensagem \"Você perdeu. A palavra era [palavra escolhida]\" e encerrar o jogo.']\n"
          ]
        }
      ]
    },
    {
      "cell_type": "code",
      "source": [
        "#Abrindo o arquivo no modo de leitura ('r')\n",
        "\n",
        "##Readline - Lê uma linha por vez.\n",
        "\n",
        "with open ('pseudocodigo.txt', 'r') as arquivo:\n",
        "  conteudo = arquivo.readline()\n",
        "  print(conteudo)"
      ],
      "metadata": {
        "colab": {
          "base_uri": "https://localhost:8080/"
        },
        "id": "7fphIc4dHt0L",
        "outputId": "f03a75c1-c5aa-4063-8ed1-90241c3de5e2"
      },
      "execution_count": 32,
      "outputs": [
        {
          "output_type": "stream",
          "name": "stdout",
          "text": [
            "Para desenvolver o jogo da forca em Python, você pode seguir os seguintes passos:\n",
            "\n"
          ]
        }
      ]
    },
    {
      "cell_type": "markdown",
      "source": [
        "## Escrita em um arquivo de texto"
      ],
      "metadata": {
        "id": "m5lqgzNMHnC0"
      }
    },
    {
      "cell_type": "code",
      "source": [
        "#Abrindo o arquivo no modo de escrita ('w')\n",
        "#O meu arquivo tá sendo criado, pois estou usando o módulo de escrita.\n",
        "\n",
        "\n",
        "with open ('novo_arquivo', 'w') as arquivo:\n",
        "  conteudo = arquivo.write('Arquivo novo')\n",
        "  conteudo = arquivo.write('Nova linha')\n",
        "  conteudo = arquivo.write('Uma nova linha do texto novo do arquivo novo')\n",
        "\n",
        "print(arquivo)\n"
      ],
      "metadata": {
        "colab": {
          "base_uri": "https://localhost:8080/"
        },
        "id": "9UdOcDTxHqCD",
        "outputId": "10eb8e5c-5fc0-43fc-b59d-59f8b26b07bc"
      },
      "execution_count": 35,
      "outputs": [
        {
          "output_type": "stream",
          "name": "stdout",
          "text": [
            "<_io.TextIOWrapper name='novo_arquivo' mode='w' encoding='UTF-8'>\n"
          ]
        }
      ]
    },
    {
      "cell_type": "code",
      "source": [
        "with open ('novo_arquivo', 'r') as arquivo:\n",
        "  leitura = arquivo.read()\n",
        "  print(leitura)"
      ],
      "metadata": {
        "colab": {
          "base_uri": "https://localhost:8080/"
        },
        "id": "vFTpUR1JR1ei",
        "outputId": "aad3284f-bb9a-4d99-d0c1-3871a97d04bb"
      },
      "execution_count": 43,
      "outputs": [
        {
          "output_type": "stream",
          "name": "stdout",
          "text": [
            "Arquivo novoNova linhaUma nova linha do texto novo do arquivo novo\n"
          ]
        }
      ]
    },
    {
      "cell_type": "markdown",
      "source": [
        "## Adicionando conteúdo a um arquivo existente"
      ],
      "metadata": {
        "id": "z_Q_VX_oIyT_"
      }
    },
    {
      "cell_type": "code",
      "source": [
        "with open ('novo_arquivo.txt', 'a') as arquivo:\n",
        "  arquivo.write('nova linha - 11/09')\n",
        "  print(arquivo)"
      ],
      "metadata": {
        "colab": {
          "base_uri": "https://localhost:8080/"
        },
        "id": "EgACTnwnSL9g",
        "outputId": "d0fe0945-2b32-423e-cb38-381f477e6f60"
      },
      "execution_count": 40,
      "outputs": [
        {
          "output_type": "stream",
          "name": "stdout",
          "text": [
            "<_io.TextIOWrapper name='novo_arquivo.txt' mode='a' encoding='UTF-8'>\n"
          ]
        }
      ]
    },
    {
      "cell_type": "code",
      "source": [
        "with open ('novo_arquivo.txt', 'r') as arquivo:\n",
        "  leitura = arquivo.read()\n",
        "  print(leitura)"
      ],
      "metadata": {
        "colab": {
          "base_uri": "https://localhost:8080/"
        },
        "id": "WjDqVbNnSf8F",
        "outputId": "0dd7cbaa-3405-4b2c-ccdd-3aa3e40efaad"
      },
      "execution_count": 42,
      "outputs": [
        {
          "output_type": "stream",
          "name": "stdout",
          "text": [
            "nova linha - 11/09\n"
          ]
        }
      ]
    },
    {
      "cell_type": "markdown",
      "source": [
        "##Leitura de um arquio linha por linha"
      ],
      "metadata": {
        "id": "QloYcgVHJVbi"
      }
    },
    {
      "cell_type": "code",
      "source": [
        "with open ('pseudocodigo.txt', 'r') as arquivo:\n",
        "  #lendo o arquivo linha por linha\n",
        "  for linha in arquivo:\n",
        "    print(linha.strip())  #O Strip remove espaços em branco"
      ],
      "metadata": {
        "colab": {
          "base_uri": "https://localhost:8080/"
        },
        "id": "zNOZt6aAJYC2",
        "outputId": "90f423d5-9bf6-4bfb-f4ec-89a016fc8730"
      },
      "execution_count": 46,
      "outputs": [
        {
          "output_type": "stream",
          "name": "stdout",
          "text": [
            "Para desenvolver o jogo da forca em Python, você pode seguir os seguintes passos:\n",
            "\n",
            "\n",
            "1- Definir a lista de palavras possíveis\n",
            "\n",
            "2- Escolher uma palavra aleatória da lista\n",
            "\n",
            "3- Criar uma lista vazia para armazenar as letras adivinhadas\n",
            "\n",
            "4- Definir o número máximo de tentativas permitidas\n",
            "\n",
            "5- Enquanto o número de tentativas não atingir o limite máximo:\n",
            "\n",
            "a. Mostrar a palavra como uma série de underscores, com as letras adivinhadas preenchidas nos espaços corretos\n",
            "\n",
            "b. Pedir ao jogador que adivinhe uma letra\n",
            "\n",
            "c. Verificar se a letra adivinhada está na palavra\n",
            "\n",
            "d. Se a letra adivinhada está na palavra, adicionar a letra à lista de letras adivinhadas e atualizar a exibição da palavra\n",
            "\n",
            "e. Se a letra adivinhada não está na palavra, reduzir o número de tentativas restantes e exibir a mensagem \"Letra incorreta. Tentativas restantes: [número de tentativas restantes]\"\n",
            "\n",
            "f. Verificar se todas as letras da palavra foram adivinhadas\n",
            "\n",
            "g. Se todas as letras foram adivinhadas, exibir a mensagem \"Você venceu!\"\n",
            "\n",
            "h. Se o número de tentativas restantes chegar a zero, exibir a mensagem \"Você perdeu. A palavra era [palavra escolhida]\" e encerrar o jogo.\n"
          ]
        }
      ]
    },
    {
      "cell_type": "markdown",
      "source": [
        "## Lendo um arquivo muinto grande"
      ],
      "metadata": {
        "id": "JmWpvodwJw3W"
      }
    },
    {
      "cell_type": "code",
      "source": [
        "import pandas as pd\n",
        "\n",
        "#Criando um Dataframe\n",
        "\n",
        "df_grande =  pd.DataFrame({\n",
        "    'coluna_1': range(1, 100001),\n",
        "    'coluna_2': range(100001,200001)\n",
        "})\n",
        "\n",
        "print(df_grande)"
      ],
      "metadata": {
        "id": "qGkmoQ8uJzx8",
        "colab": {
          "base_uri": "https://localhost:8080/"
        },
        "outputId": "de724620-a912-4f78-81d1-2ce77a765649"
      },
      "execution_count": 53,
      "outputs": [
        {
          "output_type": "stream",
          "name": "stdout",
          "text": [
            "       coluna_1  coluna_2\n",
            "0             1    100001\n",
            "1             2    100002\n",
            "2             3    100003\n",
            "3             4    100004\n",
            "4             5    100005\n",
            "...         ...       ...\n",
            "99995     99996    199996\n",
            "99996     99997    199997\n",
            "99997     99998    199998\n",
            "99998     99999    199999\n",
            "99999    100000    200000\n",
            "\n",
            "[100000 rows x 2 columns]\n"
          ]
        }
      ]
    },
    {
      "cell_type": "code",
      "source": [
        "chunksize = 20000\n",
        "\n",
        "for i, chunk in enumerate(range(0, len(df_grande), chunksize)):\n",
        "  df_chunk = df_grande.iloc[chunk:chunk + chunksize]\n",
        "  df_chunk.to_csv(f'saida_parte_{i + 1}.csv', index=False)\n",
        "  print(f\"Escrevendo parte {i+1}\")"
      ],
      "metadata": {
        "colab": {
          "base_uri": "https://localhost:8080/"
        },
        "id": "EDpzq5ShbRYH",
        "outputId": "bbbad4b1-7ff3-4218-f5b5-a3b53d7807d2"
      },
      "execution_count": 55,
      "outputs": [
        {
          "output_type": "stream",
          "name": "stdout",
          "text": [
            "Escrevendo parte 1\n",
            "Escrevendo parte 2\n",
            "Escrevendo parte 3\n",
            "Escrevendo parte 4\n",
            "Escrevendo parte 5\n"
          ]
        }
      ]
    }
  ]
}