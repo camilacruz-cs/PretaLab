{
  "nbformat": 4,
  "nbformat_minor": 0,
  "metadata": {
    "colab": {
      "provenance": [],
      "authorship_tag": "ABX9TyPKVkRAF8w2mjkQdCjQtGa2",
      "include_colab_link": true
    },
    "kernelspec": {
      "name": "python3",
      "display_name": "Python 3"
    },
    "language_info": {
      "name": "python"
    }
  },
  "cells": [
    {
      "cell_type": "markdown",
      "metadata": {
        "id": "view-in-github",
        "colab_type": "text"
      },
      "source": [
        "<a href=\"https://colab.research.google.com/github/camilacruz-cs/PretaLab/blob/main/mod2/%20aula2_trabalhando_banco_dados.ipynb\" target=\"_parent\"><img src=\"https://colab.research.google.com/assets/colab-badge.svg\" alt=\"Open In Colab\"/></a>"
      ]
    },
    {
      "cell_type": "markdown",
      "source": [
        "## Preparando o ambiente\n"
      ],
      "metadata": {
        "id": "W1Ketg6wTdTN"
      }
    },
    {
      "cell_type": "code",
      "execution_count": null,
      "metadata": {
        "colab": {
          "base_uri": "https://localhost:8080/"
        },
        "id": "_fkyhiy0TVRB",
        "outputId": "28547ec3-1ec9-4ee8-a4fc-c7c71cf62cd8"
      },
      "outputs": [
        {
          "output_type": "stream",
          "name": "stdout",
          "text": [
            "Mounted at /content/drive\n"
          ]
        }
      ],
      "source": [
        "# Montando o Google Drive\n",
        "from google.colab import drive\n",
        "drive.mount('/content/drive')\n"
      ]
    },
    {
      "cell_type": "code",
      "source": [
        "%cd /content/drive/MyDrive/Colab Notebooks/PretaLab - Python para análise de dados/Módulo 2"
      ],
      "metadata": {
        "colab": {
          "base_uri": "https://localhost:8080/"
        },
        "id": "1ChrQn6vUEmo",
        "outputId": "e2ee722e-0f3f-472f-cb3b-f9ce9b9290b1"
      },
      "execution_count": null,
      "outputs": [
        {
          "output_type": "stream",
          "name": "stdout",
          "text": [
            "/content/drive/MyDrive/Colab Notebooks/PretaLab - Python para análise de dados/Módulo 2\n"
          ]
        }
      ]
    },
    {
      "cell_type": "code",
      "source": [
        "import os\n",
        "print(os.getcwd())\n"
      ],
      "metadata": {
        "colab": {
          "base_uri": "https://localhost:8080/"
        },
        "id": "8vASmF_jUUuQ",
        "outputId": "31ebb242-e4e9-4c0f-ba16-31217d8529db"
      },
      "execution_count": null,
      "outputs": [
        {
          "output_type": "stream",
          "name": "stdout",
          "text": [
            "/content/drive/MyDrive/Colab Notebooks/PretaLab - Python para análise de dados/Módulo 2\n"
          ]
        }
      ]
    },
    {
      "cell_type": "code",
      "source": [
        "!ls"
      ],
      "metadata": {
        "colab": {
          "base_uri": "https://localhost:8080/"
        },
        "id": "QFODy7azUWvM",
        "outputId": "d9fbfeef-b1a7-45a4-8678-0384051a48d0"
      },
      "execution_count": null,
      "outputs": [
        {
          "output_type": "stream",
          "name": "stdout",
          "text": [
            " aula1_introducao_banco_dados.ipynb    Aula3_Autogestao.ipynb  'notas (1).db'   notas.db-journal\n",
            " aula2_trabalhando_banco_dados.ipynb   meu_banco.db\t        notas.db\n"
          ]
        }
      ]
    },
    {
      "cell_type": "markdown",
      "source": [
        "## Usando o SQLite3 no Python"
      ],
      "metadata": {
        "id": "9nm6-nT3VLTk"
      }
    },
    {
      "cell_type": "code",
      "source": [
        "import sqlite3 as sql"
      ],
      "metadata": {
        "id": "Sh0FfRCeVPHE"
      },
      "execution_count": null,
      "outputs": []
    },
    {
      "cell_type": "code",
      "source": [
        "#Conectar (ou criar) um banco de dados\n",
        "\n",
        "conexao = sql.connect('notas.db')"
      ],
      "metadata": {
        "id": "v7UYcXkMVwNs"
      },
      "execution_count": null,
      "outputs": []
    },
    {
      "cell_type": "code",
      "source": [
        "cursor = conexao.cursor() #ele dá o ponteiro para o banco\n",
        "\n",
        "print(\"Conectando com o Banco de Dados\")"
      ],
      "metadata": {
        "colab": {
          "base_uri": "https://localhost:8080/"
        },
        "id": "rq_jE3WOW8Qs",
        "outputId": "b99b02f6-a64a-4a26-d1e4-dc43363ca00a"
      },
      "execution_count": null,
      "outputs": [
        {
          "output_type": "stream",
          "name": "stdout",
          "text": [
            "Conectando com o Banco de Dados\n"
          ]
        }
      ]
    },
    {
      "cell_type": "markdown",
      "source": [
        "### 2. Criando uma tabela de dados"
      ],
      "metadata": {
        "id": "VXehlyuYXJKh"
      }
    },
    {
      "cell_type": "code",
      "source": [
        "#Criando uma tabela chamada \"Alunos\"\n",
        "\n",
        "cursor.execute('''\n",
        "\n",
        "CREATE TABLE IF NOT EXISTS ALUNO(\n",
        "  MATRICULA INTEGER PRIMARY KEY,\n",
        "  NOME TEXT,\n",
        "  DISCIPLINA TEXT,\n",
        "  NOTA REAL\n",
        ")\n",
        "''')\n",
        "\n",
        "print(\"Tabela 'Aluno' criada com sucesso\")"
      ],
      "metadata": {
        "colab": {
          "base_uri": "https://localhost:8080/"
        },
        "id": "-pSppCKI7qLC",
        "outputId": "98cbfdd6-0b17-490a-8ff2-25ea0ca8a165"
      },
      "execution_count": null,
      "outputs": [
        {
          "output_type": "stream",
          "name": "stdout",
          "text": [
            "Tabela 'Aluno' criada com sucesso\n"
          ]
        }
      ]
    },
    {
      "cell_type": "markdown",
      "source": [
        "### Inserindo dados na tabela"
      ],
      "metadata": {
        "id": "IO_XQmlz93SQ"
      }
    },
    {
      "cell_type": "code",
      "source": [
        "#Inserindo os dados\n",
        "\n",
        "cursor.execute(\"INSERT INTO ALUNO (MATRICULA, NOME, DISCIPLINA, NOTA) VALUES ('234', 'JOSE', 'MATEMÁTICA','9.0')\")\n",
        "\n",
        "#salvando a inserção\n",
        "\n",
        "conexao.commit()\n",
        "\n",
        "print(\"Dados inseridos com sucesso\")"
      ],
      "metadata": {
        "colab": {
          "base_uri": "https://localhost:8080/"
        },
        "id": "obc8uNZm92tl",
        "outputId": "9e0c563b-9f12-430c-af4f-ab75fdda61ae"
      },
      "execution_count": null,
      "outputs": [
        {
          "output_type": "stream",
          "name": "stdout",
          "text": [
            "Dados inseridos com sucesso\n"
          ]
        }
      ]
    },
    {
      "cell_type": "markdown",
      "source": [
        "Leitura dos dados na tabela"
      ],
      "metadata": {
        "id": "Gt21583196Em"
      }
    },
    {
      "cell_type": "code",
      "source": [
        "#Consultar os dados\n",
        "\n",
        "cursor.execute(\"SELECT * FROM ALUNO\")\n",
        "resultados = cursor.fetchall()\n",
        "\n",
        "#exibindo resultados\n",
        "\n",
        "for linha in resultados:\n",
        "  print(linha)"
      ],
      "metadata": {
        "colab": {
          "base_uri": "https://localhost:8080/"
        },
        "id": "dghGZVQC7qH4",
        "outputId": "4c1b7d78-b86f-46f7-b28a-9edc24229203"
      },
      "execution_count": null,
      "outputs": [
        {
          "output_type": "stream",
          "name": "stdout",
          "text": [
            "(123, 'MARIA', 'MATEMÁTICA', 9.0)\n",
            "(234, 'JOSE', 'MATEMÁTICA', 9.0)\n"
          ]
        }
      ]
    },
    {
      "cell_type": "markdown",
      "source": [
        "Atualizando os dados na tabela"
      ],
      "metadata": {
        "id": "2QujJe66_GFc"
      }
    },
    {
      "cell_type": "code",
      "source": [
        "cursor.execute(\"UPDATE ALUNO SET NOTA = 9.0 WHERE NOME = 'MARIA'\")\n",
        "\n",
        "conexao.commit()\n",
        "\n",
        "print(\"Dados atualizados com sucesso\")"
      ],
      "metadata": {
        "colab": {
          "base_uri": "https://localhost:8080/"
        },
        "id": "ePD-bySv9y8u",
        "outputId": "654a1fed-9e3b-4710-c3d4-4bc1ac3f0f03"
      },
      "execution_count": null,
      "outputs": [
        {
          "output_type": "stream",
          "name": "stdout",
          "text": [
            "Dados atualizados com sucesso\n"
          ]
        }
      ]
    },
    {
      "cell_type": "code",
      "source": [
        "#Inserindo dados no banco de dados\n",
        "\n",
        "cursor.execute(\"INSERT INTO ALUNO (MATRICULA, NOME, DISCIPLINA, NOTA) VALUES ('456','Maria', 'Matemática','9.5')\")\n",
        "\n",
        "#Salvando tudo que foi feito.\n",
        "conexao.commit()\n",
        "\n",
        "print(\"Dados inseridos com sucesso\")"
      ],
      "metadata": {
        "id": "xQ1aRAkmZVc0",
        "colab": {
          "base_uri": "https://localhost:8080/"
        },
        "outputId": "a191bdf7-8850-4476-8914-139a3d7b65e0"
      },
      "execution_count": null,
      "outputs": [
        {
          "output_type": "stream",
          "name": "stdout",
          "text": [
            "Dados inseridos com sucesso\n"
          ]
        }
      ]
    },
    {
      "cell_type": "code",
      "source": [
        "#Atualização nos dados\n",
        "\n",
        "cursor.execute(\"UPDATE ALUNO SET NOTA = 9.0 WHERE NOME = 'MARIA'\")\n",
        "\n",
        "#Salvando tudo que foi feito.\n",
        "conexao.commit()\n",
        "\n",
        "print(\"Dados atualizados com sucesso\")"
      ],
      "metadata": {
        "colab": {
          "base_uri": "https://localhost:8080/"
        },
        "id": "5_OleFFpaohA",
        "outputId": "605e6553-58fe-4e7e-c010-5c324c87d1a7"
      },
      "execution_count": null,
      "outputs": [
        {
          "output_type": "stream",
          "name": "stdout",
          "text": [
            "Dados atualizados com sucesso\n"
          ]
        }
      ]
    },
    {
      "cell_type": "code",
      "source": [
        "#Consultar a tabela\n",
        "\n",
        "cursor.execute(\"SELECT * FROM ALUNO\")\n",
        "resultados = cursor.fetchall()\n",
        "\n",
        "#exibindo\n",
        "\n",
        "for i in resultados:\n",
        "  print(i)"
      ],
      "metadata": {
        "colab": {
          "base_uri": "https://localhost:8080/"
        },
        "id": "b_ctP2kYYm3V",
        "outputId": "e5f96c21-3223-4eb5-95da-891699a496ad"
      },
      "execution_count": null,
      "outputs": [
        {
          "output_type": "stream",
          "name": "stdout",
          "text": [
            "(123, 'MARIA', 'MATEMÁTICA', 9.0)\n",
            "(234, 'JOSE', 'MATEMÁTICA', 9.0)\n",
            "(456, 'Maria', 'Matemática', 9.5)\n"
          ]
        }
      ]
    },
    {
      "cell_type": "markdown",
      "source": [
        "Deletando dados do banco de dados"
      ],
      "metadata": {
        "id": "nnL3fOjr_l6M"
      }
    },
    {
      "cell_type": "code",
      "source": [
        "cursor.execute(\"DELETE FROM ALUNO WHERE MATRICULA = '456'\")\n",
        "conexao.commit()\n",
        "\n",
        "print(\"Deletado com sucesso\")"
      ],
      "metadata": {
        "colab": {
          "base_uri": "https://localhost:8080/"
        },
        "id": "t23Mk8dp_nsB",
        "outputId": "c0c0de6e-a9a3-4a72-fde1-963acb13638a"
      },
      "execution_count": null,
      "outputs": [
        {
          "output_type": "stream",
          "name": "stdout",
          "text": [
            "Deletado com sucesso\n"
          ]
        }
      ]
    },
    {
      "cell_type": "markdown",
      "source": [
        "Fechando a conexão do banco"
      ],
      "metadata": {
        "id": "KgTrENnE_72H"
      }
    },
    {
      "cell_type": "code",
      "source": [
        "conexao.close()\n",
        "\n",
        "print(\"Conexão fechada com sucesso\")"
      ],
      "metadata": {
        "colab": {
          "base_uri": "https://localhost:8080/"
        },
        "id": "n6zIIbbU_94g",
        "outputId": "3d562c43-3125-476f-82cc-478cc2e83d53"
      },
      "execution_count": null,
      "outputs": [
        {
          "output_type": "stream",
          "name": "stdout",
          "text": [
            "Conexão fechada com sucesso\n"
          ]
        }
      ]
    },
    {
      "cell_type": "markdown",
      "source": [
        "##Trabalhando com tabelas no banco de dados"
      ],
      "metadata": {
        "id": "TvWuDNj8Akf2"
      }
    },
    {
      "cell_type": "code",
      "source": [
        "#Conectar o banco de dados\n",
        "\n",
        "#Conectando a um banco já criado\n",
        "conexao = sql.connect('notas.db')"
      ],
      "metadata": {
        "id": "ryShYRrnAoio"
      },
      "execution_count": null,
      "outputs": []
    },
    {
      "cell_type": "code",
      "source": [
        "cursor = conexao.cursor()\n",
        "\n",
        "print(\"Banco conectado com sucesso!\")"
      ],
      "metadata": {
        "colab": {
          "base_uri": "https://localhost:8080/"
        },
        "id": "S5SpEoSjA1Mn",
        "outputId": "0186550f-4c39-4bbe-9cfa-b155fe997e7f"
      },
      "execution_count": null,
      "outputs": [
        {
          "output_type": "stream",
          "name": "stdout",
          "text": [
            "Banco conectado com sucesso!\n"
          ]
        }
      ]
    },
    {
      "cell_type": "code",
      "source": [
        "#Criando a tabela \"PRINCIPAL\"\n",
        "\n",
        "cursor.execute('''\n",
        "CREATE TABLE IF NOT EXISTS PRINCIPAL(\n",
        "  MATRICULA INTEGER PRIMARY KEY,\n",
        "  NOME TEXT NOT NULL\n",
        "\n",
        ")\n",
        "\n",
        "\n",
        "''')\n",
        "\n",
        "print(\"Tabela 'PRINCIPAL' criada com sucesso\")"
      ],
      "metadata": {
        "colab": {
          "base_uri": "https://localhost:8080/"
        },
        "id": "HDk-2ogxBBi8",
        "outputId": "6603ac97-bae4-4d7e-8b48-1b3cc962622e"
      },
      "execution_count": null,
      "outputs": [
        {
          "output_type": "stream",
          "name": "stdout",
          "text": [
            "Tabela 'PRINCIPAL' criada com sucesso\n"
          ]
        }
      ]
    },
    {
      "cell_type": "code",
      "source": [
        "#Criando a tabela \"DISCIPLINA\"\n",
        "\n",
        "cursor.execute('''\n",
        "  CREATE TABLE IF NOT EXISTS DISCIPLINAS(\n",
        "    MATRICULA INTEGER,\n",
        "    DISCIPLINA TEXT NOT NULL,\n",
        "    ID_DISCIPLINA INTEGER PRIMARY KEY\n",
        "\n",
        "  )\n",
        "\n",
        "\n",
        "\n",
        "''')\n",
        "\n",
        "print(\"Tabela 'DISCIPLINA' criada com sucesso\")"
      ],
      "metadata": {
        "colab": {
          "base_uri": "https://localhost:8080/"
        },
        "id": "k2WXfLz8CDVr",
        "outputId": "ae40c7e6-5b9a-4f2b-fbd3-bf8151407ef8"
      },
      "execution_count": null,
      "outputs": [
        {
          "output_type": "stream",
          "name": "stdout",
          "text": [
            "Tabela 'DISCIPLINA' criada com sucesso\n"
          ]
        }
      ]
    },
    {
      "cell_type": "code",
      "source": [
        "#Criando a coluna \"NOTAS\"\n",
        "\n",
        "cursor.execute('''\n",
        "CREATE TABLE IF NOT EXISTS NOTAS(\n",
        "  ID_NOTA INTEGER PRIMARY KEY,\n",
        "  MATRICULA INTEGER,\n",
        "  ID_DISCIPLINA INTEGER,\n",
        "  NOTA REAL,\n",
        "  FOREIGN KEY (MATRICULA) REFERENCES PRINCIPAL(ID_ALUNOS),\n",
        "  FOREIGN KEY (ID_DISCIPLINA) REFERENCES DISCIPLINAS(ID_DISCIPLINA)\n",
        "\n",
        ")\n",
        "\n",
        "\n",
        "''')\n",
        "\n",
        "print(\"Tabela 'NOTAS' criada com sucesso\")"
      ],
      "metadata": {
        "colab": {
          "base_uri": "https://localhost:8080/"
        },
        "id": "qpmiDyJ6C0vM",
        "outputId": "84a99441-49f2-48a4-8235-26eaab0f7552"
      },
      "execution_count": null,
      "outputs": [
        {
          "output_type": "stream",
          "name": "stdout",
          "text": [
            "Tabela 'NOTAS' criada com sucesso\n"
          ]
        }
      ]
    },
    {
      "cell_type": "code",
      "source": [
        "#Salvando no banco\n",
        "\n",
        "conexao.commit()"
      ],
      "metadata": {
        "id": "JkoqbTGAFqbY"
      },
      "execution_count": null,
      "outputs": []
    },
    {
      "cell_type": "code",
      "source": [
        "#Consultar os dados - Aqui não vai aparecer nada, pois as tabelas só foram criadas.\n",
        "\n",
        "cursor.execute(\"SELECT * FROM DISCIPLINAS\")\n",
        "resultados = cursor.fetchall()\n",
        "\n",
        "#exibindo resultados\n",
        "\n",
        "for linha in resultados:\n",
        "  print(linha)"
      ],
      "metadata": {
        "id": "FMV0DxyJFy_9"
      },
      "execution_count": null,
      "outputs": []
    },
    {
      "cell_type": "markdown",
      "source": [
        "###Adicionando os dados nas tabelas"
      ],
      "metadata": {
        "id": "4arCavevF9KB"
      }
    },
    {
      "cell_type": "code",
      "source": [
        "DISCIPLINA = [\n",
        "    ('Matemática',),\n",
        "    ('História',),\n",
        "    ('Português',)\n",
        " ]\n",
        "\n",
        "cursor.executemany(\"INSERT INTO DISCIPLINAS (DISCIPLINA) VALUES (?)\", DISCIPLINA)"
      ],
      "metadata": {
        "colab": {
          "base_uri": "https://localhost:8080/"
        },
        "id": "t8-5x9pIGVLM",
        "outputId": "23a32b59-460e-4a6f-97c8-ecf99d39dca8"
      },
      "execution_count": null,
      "outputs": [
        {
          "output_type": "execute_result",
          "data": {
            "text/plain": [
              "<sqlite3.Cursor at 0x7e4b3c51d340>"
            ]
          },
          "metadata": {},
          "execution_count": 28
        }
      ]
    },
    {
      "cell_type": "code",
      "source": [
        "for linhas in notas:\n",
        "  print(linha)"
      ],
      "metadata": {
        "colab": {
          "base_uri": "https://localhost:8080/"
        },
        "id": "QQ3ORs4eJeRU",
        "outputId": "88f42c83-41c9-4416-aace-92a33e0859eb"
      },
      "execution_count": null,
      "outputs": [
        {
          "output_type": "stream",
          "name": "stdout",
          "text": [
            "(234, 'JOSE', 'MATEMÁTICA', 9.0)\n",
            "(234, 'JOSE', 'MATEMÁTICA', 9.0)\n",
            "(234, 'JOSE', 'MATEMÁTICA', 9.0)\n",
            "(234, 'JOSE', 'MATEMÁTICA', 9.0)\n"
          ]
        }
      ]
    },
    {
      "cell_type": "markdown",
      "source": [
        "##Colab reutilizado na aula de augestão."
      ],
      "metadata": {
        "id": "mdjlLEn2iPuW"
      }
    },
    {
      "cell_type": "markdown",
      "source": [
        "#Para utilizar o exemplo novamente, vou excluir as tabelas já criadas"
      ],
      "metadata": {
        "id": "G0f9YVp3dw-j"
      }
    },
    {
      "cell_type": "code",
      "source": [
        "cursor.execute(\"DROP TABLE IF EXISTS DISCIPLINAS\")\n",
        "cursor.execute(\"DROP TABLE IF EXISTS NOTAS\")\n",
        "cursor.execute(\"DROP TABLE IF EXISTS PRINCIPAL\")\n",
        "\n",
        "print(\"Tabelas excluídas com sucesso (:\")"
      ],
      "metadata": {
        "colab": {
          "base_uri": "https://localhost:8080/"
        },
        "id": "oeZF9iwkd1YL",
        "outputId": "e35c14bc-ddbc-4081-f151-e48b582d2389"
      },
      "execution_count": null,
      "outputs": [
        {
          "output_type": "stream",
          "name": "stdout",
          "text": [
            "Tabelas excluídas com sucesso (:\n"
          ]
        }
      ]
    },
    {
      "cell_type": "markdown",
      "source": [
        "##Criação das tabelas"
      ],
      "metadata": {
        "id": "dYGsp-sRecrZ"
      }
    },
    {
      "cell_type": "code",
      "source": [
        "#Criando a tabela \"PRINCIPAL\"\n",
        "\n",
        "cursor.execute('''\n",
        "\n",
        "CREATE TABLE PRINCIPAL(\n",
        "  MATRICULA INTEGER PRIMARY KEY AUTOINCREMENT,\n",
        "  NOME TEXT\n",
        ")\n",
        "''')\n",
        "\n",
        "print(\"Tabela 'PRINCIPAL' criada com sucesso (:)\")\n"
      ],
      "metadata": {
        "colab": {
          "base_uri": "https://localhost:8080/"
        },
        "id": "ECkaG3PveecQ",
        "outputId": "992d15fe-e190-44ac-c2f9-351c476e6dde"
      },
      "execution_count": null,
      "outputs": [
        {
          "output_type": "stream",
          "name": "stdout",
          "text": [
            "Tabela 'PRINCIPAL' criada com sucesso (:)\n"
          ]
        }
      ]
    },
    {
      "cell_type": "code",
      "source": [
        "#Criando a tabela \"DISCIPLINA\"\n",
        "\n",
        "cursor.execute('''\n",
        "  CREATE TABLE IF NOT EXISTS DISCIPLINAS(\n",
        "    MATRICULA INTEGER,\n",
        "    DISCIPLINA TEXT NOT NULL,\n",
        "    ID_DISCIPLINA INTEGER PRIMARY KEY\n",
        "\n",
        "  )\n",
        "\n",
        "\n",
        "\n",
        "''')\n",
        "\n",
        "print(\"Tabela 'DISCIPLINA' criada com sucesso\")"
      ],
      "metadata": {
        "colab": {
          "base_uri": "https://localhost:8080/"
        },
        "id": "byLFzF2oe-L9",
        "outputId": "cd0e9ba5-4c96-4765-8a1f-60f60c5f92eb"
      },
      "execution_count": null,
      "outputs": [
        {
          "output_type": "stream",
          "name": "stdout",
          "text": [
            "Tabela 'DISCIPLINA' criada com sucesso\n"
          ]
        }
      ]
    },
    {
      "cell_type": "code",
      "source": [
        "#Criando a coluna \"NOTAS\"\n",
        "\n",
        "cursor.execute('''\n",
        "CREATE TABLE IF NOT EXISTS NOTAS(\n",
        "  ID_NOTA INTEGER PRIMARY KEY,\n",
        "  MATRICULA INTEGER,\n",
        "  ID_DISCIPLINA INTEGER,\n",
        "  NOTA REAL,\n",
        "  FOREIGN KEY (MATRICULA) REFERENCES PRINCIPAL(ID_ALUNOS),\n",
        "  FOREIGN KEY (ID_DISCIPLINA) REFERENCES DISCIPLINAS(ID_DISCIPLINA)\n",
        "\n",
        ")\n",
        "\n",
        "\n",
        "''')\n",
        "\n",
        "print(\"Tabela 'NOTAS' criada com sucesso\")"
      ],
      "metadata": {
        "colab": {
          "base_uri": "https://localhost:8080/"
        },
        "id": "z7N-8ebFiGXD",
        "outputId": "91196144-f1e1-4a85-9c0a-d09e237bf655"
      },
      "execution_count": null,
      "outputs": [
        {
          "output_type": "stream",
          "name": "stdout",
          "text": [
            "Tabela 'NOTAS' criada com sucesso\n"
          ]
        }
      ]
    },
    {
      "cell_type": "markdown",
      "source": [
        "##Inserindo dados na tabela\n"
      ],
      "metadata": {
        "id": "Od7kcHuxiL01"
      }
    },
    {
      "cell_type": "code",
      "source": [
        "notas = [\n",
        "    (1, 245, 1,8.5),\n",
        "    (2, 245, 2, 8.0)\n",
        "]\n",
        "\n",
        "cursor.executemany(\"INSERT INTO NOTAS (ID_NOTA, MATRICULA, ID_DISCIPLINA,NOTA) VALUES (?,?,?,?)\", NOTAS)"
      ],
      "metadata": {
        "colab": {
          "base_uri": "https://localhost:8080/",
          "height": 185
        },
        "id": "lbPdCbzHjmp6",
        "outputId": "c8c39d99-7b68-446b-ac5a-28827c853af3"
      },
      "execution_count": null,
      "outputs": [
        {
          "output_type": "error",
          "ename": "NameError",
          "evalue": "name 'NOTAS' is not defined",
          "traceback": [
            "\u001b[0;31m---------------------------------------------------------------------------\u001b[0m",
            "\u001b[0;31mNameError\u001b[0m                                 Traceback (most recent call last)",
            "\u001b[0;32m<ipython-input-45-9c6eac619961>\u001b[0m in \u001b[0;36m<cell line: 6>\u001b[0;34m()\u001b[0m\n\u001b[1;32m      4\u001b[0m ]\n\u001b[1;32m      5\u001b[0m \u001b[0;34m\u001b[0m\u001b[0m\n\u001b[0;32m----> 6\u001b[0;31m \u001b[0mcursor\u001b[0m\u001b[0;34m.\u001b[0m\u001b[0mexecutemany\u001b[0m\u001b[0;34m(\u001b[0m\u001b[0;34m\"INSERT INTO NOTAS (ID_NOTA, MATRICULA, ID_DISCIPLINA,NOTA) VALUES (?,?,?,?)\"\u001b[0m\u001b[0;34m,\u001b[0m \u001b[0mNOTAS\u001b[0m\u001b[0;34m)\u001b[0m\u001b[0;34m\u001b[0m\u001b[0;34m\u001b[0m\u001b[0m\n\u001b[0m",
            "\u001b[0;31mNameError\u001b[0m: name 'NOTAS' is not defined"
          ]
        }
      ]
    }
  ]
}