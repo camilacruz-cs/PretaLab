{
  "nbformat": 4,
  "nbformat_minor": 0,
  "metadata": {
    "colab": {
      "provenance": [],
      "include_colab_link": true
    },
    "kernelspec": {
      "name": "python3",
      "display_name": "Python 3"
    },
    "language_info": {
      "name": "python"
    }
  },
  "cells": [
    {
      "cell_type": "markdown",
      "metadata": {
        "id": "view-in-github",
        "colab_type": "text"
      },
      "source": [
        "<a href=\"https://colab.research.google.com/github/camilacruz-cs/PretaLab/blob/main/mod2/%20Aula3_Autogestao.ipynb\" target=\"_parent\"><img src=\"https://colab.research.google.com/assets/colab-badge.svg\" alt=\"Open In Colab\"/></a>"
      ]
    },
    {
      "cell_type": "markdown",
      "source": [
        "### Preparando o ambiente"
      ],
      "metadata": {
        "id": "6-8PkGZ3ROGE"
      }
    },
    {
      "cell_type": "code",
      "execution_count": null,
      "metadata": {
        "id": "5m4xT2nauaRw",
        "colab": {
          "base_uri": "https://localhost:8080/"
        },
        "outputId": "3bae5996-5f87-4bae-a41e-f0f5b4ca2b3b"
      },
      "outputs": [
        {
          "output_type": "stream",
          "name": "stdout",
          "text": [
            "Mounted at /content/drive\n"
          ]
        }
      ],
      "source": [
        "# Montando o Google Drive\n",
        "from google.colab import drive\n",
        "drive.mount('/content/drive')\n"
      ]
    },
    {
      "cell_type": "code",
      "source": [
        "%cd /content/drive/MyDrive/Colab Notebooks/PretaLab - Python para análise de dados"
      ],
      "metadata": {
        "id": "ej-VPka80aXl",
        "collapsed": true,
        "colab": {
          "base_uri": "https://localhost:8080/"
        },
        "outputId": "0add4273-9944-4e97-f77c-ed3618de507f"
      },
      "execution_count": null,
      "outputs": [
        {
          "output_type": "stream",
          "name": "stdout",
          "text": [
            "/content/drive/MyDrive/Colab Notebooks/PretaLab - Python para análise de dados\n"
          ]
        }
      ]
    },
    {
      "cell_type": "code",
      "source": [
        "import os\n",
        "print(os.getcwd())\n"
      ],
      "metadata": {
        "id": "yb2RpIJAzQCW",
        "collapsed": true,
        "colab": {
          "base_uri": "https://localhost:8080/"
        },
        "outputId": "90efd2aa-d795-4441-fead-57ce64773d93"
      },
      "execution_count": null,
      "outputs": [
        {
          "output_type": "stream",
          "name": "stdout",
          "text": [
            "/content/drive/MyDrive\n"
          ]
        }
      ]
    },
    {
      "cell_type": "code",
      "source": [
        "!ls"
      ],
      "metadata": {
        "collapsed": true,
        "id": "KszmEPUC9by7",
        "colab": {
          "base_uri": "https://localhost:8080/"
        },
        "outputId": "50ea33e5-bf03-4944-cfd8-00c8d388229c"
      },
      "execution_count": null,
      "outputs": [
        {
          "output_type": "stream",
          "name": "stdout",
          "text": [
            "'Módulo 1'  'Módulo 2'\t Projetos\n"
          ]
        }
      ]
    },
    {
      "cell_type": "markdown",
      "source": [],
      "metadata": {
        "id": "s4JLLaurDtmH"
      }
    },
    {
      "cell_type": "markdown",
      "source": [
        "### Trabalhando com tabelas"
      ],
      "metadata": {
        "id": "ySIIJrXyHdHQ"
      }
    },
    {
      "cell_type": "code",
      "source": [
        "import sqlite3 as sql"
      ],
      "metadata": {
        "id": "Gm2mDO3BZOAo"
      },
      "execution_count": null,
      "outputs": []
    },
    {
      "cell_type": "code",
      "source": [
        " #Conectar (ou criar) um banco de dados\n",
        "conexao = sql.connect('notas.db')"
      ],
      "metadata": {
        "id": "bmjlgialHx34"
      },
      "execution_count": null,
      "outputs": []
    },
    {
      "cell_type": "code",
      "source": [
        "# Criar um cursor para executar comandos SQL\n",
        "cursor = conexao.cursor()\n",
        "\n",
        "print(\"Conectado ao banco de dados SQLite.\")"
      ],
      "metadata": {
        "colab": {
          "base_uri": "https://localhost:8080/"
        },
        "outputId": "c0ecbb9d-5b81-48dc-88d7-d66b0ac14491",
        "id": "8WNu2ixAHx39"
      },
      "execution_count": null,
      "outputs": [
        {
          "output_type": "stream",
          "name": "stdout",
          "text": [
            "Conectado ao banco de dados SQLite.\n"
          ]
        }
      ]
    },
    {
      "cell_type": "code",
      "source": [
        "cursor.execute(\"DROP TABLE IF EXISTS NOTAS\")\n",
        "cursor.execute(\"DROP TABLE IF EXISTS DISCIPLINAS\")\n",
        "cursor.execute(\"DROP TABLE IF EXISTS PRINCIPAL\")"
      ],
      "metadata": {
        "colab": {
          "base_uri": "https://localhost:8080/"
        },
        "id": "6D65gn3rJE9b",
        "outputId": "c4639aff-b6a0-4605-8458-659a8cd7b02c"
      },
      "execution_count": null,
      "outputs": [
        {
          "output_type": "execute_result",
          "data": {
            "text/plain": [
              "<sqlite3.Cursor at 0x7f315ef1bdc0>"
            ]
          },
          "metadata": {},
          "execution_count": 18
        }
      ]
    },
    {
      "cell_type": "code",
      "source": [
        "# Criando a tabela \"PRINCIPAL\"\n",
        "cursor.execute( '''\n",
        "CREATE TABLE  PRINCIPAL (\n",
        "    MATRICULA INTEGER PRIMARY KEY AUTOINCREMENT NOT NULL,\n",
        "    NOME TEXT NOT NULL\n",
        "    )''')\n",
        "\n",
        "print(\"Tabela PRINCIPAL criada com sucesso.\")\n"
      ],
      "metadata": {
        "colab": {
          "base_uri": "https://localhost:8080/"
        },
        "id": "sIuA2RN8nDQe",
        "outputId": "5635870a-7a31-42b2-b02d-e9ab7fedf89a"
      },
      "execution_count": null,
      "outputs": [
        {
          "output_type": "stream",
          "name": "stdout",
          "text": [
            "Tabela PRINCIPAL criada com sucesso.\n"
          ]
        }
      ]
    },
    {
      "cell_type": "code",
      "source": [
        " #Criando a tabela \"Disciplinas\"\n",
        "cursor.execute('''\n",
        "CREATE TABLE IF NOT EXISTS DISCIPLINAS (\n",
        "    DISCIPLINA TEXT NOT NULL,\n",
        "    ID_DISCIPLINA INTEGER PRIMARY KEY AUTOINCREMENT\n",
        ")\n",
        "''')"
      ],
      "metadata": {
        "id": "JsEKru_eGovx",
        "colab": {
          "base_uri": "https://localhost:8080/"
        },
        "outputId": "4b28bf37-0b42-4341-b269-f35ee3bd3bc5"
      },
      "execution_count": null,
      "outputs": [
        {
          "output_type": "execute_result",
          "data": {
            "text/plain": [
              "<sqlite3.Cursor at 0x7f315ef1bdc0>"
            ]
          },
          "metadata": {},
          "execution_count": 20
        }
      ]
    },
    {
      "cell_type": "code",
      "source": [
        "#Criando a tabela \"NOTAS\"\n",
        "cursor.execute('''\n",
        "CREATE TABLE IF NOT EXISTS NOTAS (\n",
        "    ID_NOTA  INTEGER PRIMARY KEY AUTOINCREMENT,\n",
        "    MATRICULA INTEGER,\n",
        "    ID_DISCIPLINA INTEGER,\n",
        "    NOTA REAL,\n",
        "    FOREIGN KEY (MATRICULA) REFERENCES PRINCIPAL(MATRICULA),\n",
        "    FOREIGN KEY (ID_DISCIPLINA) REFERENCES  DISCIPLINAS(ID_DISCIPLINA )\n",
        ")\n",
        "''')"
      ],
      "metadata": {
        "id": "vFfHMJ8KGr1u",
        "colab": {
          "base_uri": "https://localhost:8080/"
        },
        "outputId": "c8999f31-d9ad-4058-8712-4f0222ecb981"
      },
      "execution_count": null,
      "outputs": [
        {
          "output_type": "execute_result",
          "data": {
            "text/plain": [
              "<sqlite3.Cursor at 0x7f315ef1bdc0>"
            ]
          },
          "metadata": {},
          "execution_count": 21
        }
      ]
    },
    {
      "cell_type": "code",
      "source": [
        "# Salvando as mudanças no banco de dados\n",
        "conexao.commit()"
      ],
      "metadata": {
        "id": "9bAORPt9GwNC"
      },
      "execution_count": null,
      "outputs": []
    },
    {
      "cell_type": "code",
      "source": [
        "alunos = [\n",
        "    ('254','Maria Silva'),\n",
        "    ('255','João Pereira' ),\n",
        "    ('256','Ana Souza' )\n",
        "]\n",
        "cursor.executemany(\"INSERT INTO PRINCIPAL (MATRICULA, NOME) VALUES (?, ?)\", alunos)\n"
      ],
      "metadata": {
        "colab": {
          "base_uri": "https://localhost:8080/"
        },
        "id": "UUAYHCCQHrMF",
        "outputId": "79c17811-6dce-401f-c673-b5eacb40c9a7"
      },
      "execution_count": null,
      "outputs": [
        {
          "output_type": "execute_result",
          "data": {
            "text/plain": [
              "<sqlite3.Cursor at 0x7f315ef1bdc0>"
            ]
          },
          "metadata": {},
          "execution_count": 22
        }
      ]
    },
    {
      "cell_type": "code",
      "source": [
        "# Inserir disciplinas na tabela \"DISCIPLINAS\"\n",
        "DISCIPLINA = [\n",
        "    ('1','Matemática',),\n",
        "    ('2','Português',),\n",
        "    ('3','História',)\n",
        "]\n",
        "cursor.executemany(\"INSERT INTO DISCIPLINAS (ID_DISCIPLINA,DISCIPLINA) VALUES (?,?)\", DISCIPLINA)"
      ],
      "metadata": {
        "id": "BJbue9OqG36b",
        "colab": {
          "base_uri": "https://localhost:8080/"
        },
        "outputId": "efac6e70-b003-43ff-a688-9225d8f752ae"
      },
      "execution_count": null,
      "outputs": [
        {
          "output_type": "execute_result",
          "data": {
            "text/plain": [
              "<sqlite3.Cursor at 0x7f315ef1bdc0>"
            ]
          },
          "metadata": {},
          "execution_count": 23
        }
      ]
    },
    {
      "cell_type": "code",
      "source": [
        "notas = [\n",
        "    (1,254, 1, 8.5),  # Maria Silva - Matemática\n",
        "    (2,254, 2, 7.0),  # Maria Silva - Português\n",
        "    (3,254, 3, 7.0),  # Maria Silva - história\n",
        "    (4,255, 1, 9.0),  # João Pereira - Matemática\n",
        "    (5,255, 2, 8.0),  # João Pereira - Português\n",
        "    (6,255, 3, 8.0),  # João Pereira - História\n",
        "    (7,256, 1, 7.5),  # Ana Souza - Matemática\n",
        "    (8,256, 2, 7.5),  # Ana Souza - Português\n",
        "    (9,256, 3, 6.5)   # Ana Souza - História\n",
        "]\n",
        "\n",
        "cursor.executemany(\"INSERT INTO NOTAS (ID_NOTA, MATRICULA,ID_DISCIPLINA,NOTA) VALUES (?, ?, ?,?)\", notas)"
      ],
      "metadata": {
        "id": "2GTXpX77G6uG",
        "colab": {
          "base_uri": "https://localhost:8080/"
        },
        "outputId": "878feab2-f50c-4ad2-e7a7-19ad61615cbd"
      },
      "execution_count": null,
      "outputs": [
        {
          "output_type": "execute_result",
          "data": {
            "text/plain": [
              "<sqlite3.Cursor at 0x7f315ef1bdc0>"
            ]
          },
          "metadata": {},
          "execution_count": 24
        }
      ]
    },
    {
      "cell_type": "code",
      "source": [
        "# Salvar as mudanças e fechar a conexão\n",
        "conexao.commit()"
      ],
      "metadata": {
        "id": "q4HjzJiJG-4u"
      },
      "execution_count": null,
      "outputs": []
    },
    {
      "cell_type": "code",
      "source": [
        "# Consultar todos os dados da tabela PRICINPAL\n",
        "cursor.execute(\"SELECT * FROM NOTAS\")\n",
        "resultados = cursor.fetchall()\n",
        "\n",
        "# Exibir os dados recuperados\n",
        "for linha in resultados:\n",
        "    print(linha)"
      ],
      "metadata": {
        "colab": {
          "base_uri": "https://localhost:8080/"
        },
        "id": "lML3MCRPiiw1",
        "outputId": "08a76a04-3319-4f61-c871-bb2f18de20ea",
        "collapsed": true
      },
      "execution_count": null,
      "outputs": [
        {
          "output_type": "stream",
          "name": "stdout",
          "text": [
            "(1, 254, 1, 8.5)\n",
            "(2, 254, 2, 7.0)\n",
            "(3, 254, 3, 7.0)\n",
            "(4, 255, 1, 9.0)\n",
            "(5, 255, 2, 8.0)\n",
            "(6, 255, 3, 8.0)\n",
            "(7, 256, 1, 7.5)\n",
            "(8, 256, 2, 7.5)\n",
            "(9, 256, 3, 6.5)\n"
          ]
        }
      ]
    },
    {
      "cell_type": "code",
      "source": [
        "# Selecionar todos os alunos e suas respectivas notas\n",
        "cursor.execute('''\n",
        "SELECT PRINCIPAL.MATRICULA,PRINCIPAL.NOME, DISCIPLINAS.DISCIPLINA, NOTAS.NOTA\n",
        "FROM NOTAS\n",
        "JOIN PRINCIPAL ON NOTAS.MATRICULA = PRINCIPAL.MATRICULA\n",
        "JOIN DISCIPLINAS ON NOTAS.ID_DISCIPLINA = DISCIPLINAS.ID_DISCIPLINA\n",
        "''')\n"
      ],
      "metadata": {
        "id": "NiR_Ni52HFC8",
        "colab": {
          "base_uri": "https://localhost:8080/"
        },
        "outputId": "b47881e3-87c8-44b4-f2e7-0c6b08ac7fb3"
      },
      "execution_count": null,
      "outputs": [
        {
          "output_type": "execute_result",
          "data": {
            "text/plain": [
              "<sqlite3.Cursor at 0x7b305c9c8940>"
            ]
          },
          "metadata": {},
          "execution_count": 121
        }
      ]
    },
    {
      "cell_type": "code",
      "source": [
        "# Exibir os resultados\n",
        "resultados = cursor.fetchall()\n",
        "for linha in resultados:\n",
        "    print(linha)"
      ],
      "metadata": {
        "colab": {
          "base_uri": "https://localhost:8080/"
        },
        "id": "pxEq-g1eM6dS",
        "outputId": "dbf49bac-008a-4f48-8e52-f989cbbb085f"
      },
      "execution_count": null,
      "outputs": [
        {
          "output_type": "stream",
          "name": "stdout",
          "text": [
            "(254, 'Maria Silva', 'Matemática', 8.5)\n",
            "(254, 'Maria Silva', 'Português', 7.0)\n",
            "(254, 'Maria Silva', 'História', 7.0)\n",
            "(255, 'João Pereira', 'Matemática', 9.0)\n",
            "(255, 'João Pereira', 'Português', 8.0)\n",
            "(255, 'João Pereira', 'História', 8.0)\n",
            "(256, 'Ana Souza', 'Matemática', 7.5)\n",
            "(256, 'Ana Souza', 'Português', 7.5)\n",
            "(256, 'Ana Souza', 'História', 6.5)\n"
          ]
        }
      ]
    },
    {
      "cell_type": "code",
      "source": [
        "# Salvar as alterações no banco de dados\n",
        "conexao.commit()\n",
        "\n",
        "print(\"Dados inseridos com sucesso.\")\n"
      ],
      "metadata": {
        "colab": {
          "base_uri": "https://localhost:8080/"
        },
        "id": "jDivVGHyEZm6",
        "outputId": "4c05ad78-50e3-47fc-db3b-da31ff6c0705"
      },
      "execution_count": null,
      "outputs": [
        {
          "output_type": "stream",
          "name": "stdout",
          "text": [
            "Dados inseridos com sucesso.\n"
          ]
        }
      ]
    },
    {
      "cell_type": "markdown",
      "source": [
        "### Exemplo Avançado"
      ],
      "metadata": {
        "id": "QAFL9KWaO6W4"
      }
    },
    {
      "cell_type": "markdown",
      "source": [
        "1. Criando um Módulo Python para Gerar Dados Fictícios\n",
        "\n",
        "Vamos começar criando um arquivo chamado gerador_dados.py que será nosso módulo para gerar os dados fictícios. Ele conterá funções para gerar alunos, disciplinas e notas."
      ],
      "metadata": {
        "id": "mPMLVs6lPLcR"
      }
    },
    {
      "cell_type": "code",
      "source": [
        "import random\n",
        "import csv"
      ],
      "metadata": {
        "id": "TXMz9TAUPGmy"
      },
      "execution_count": null,
      "outputs": []
    },
    {
      "cell_type": "code",
      "source": [
        "# Função para salvar os dados em CSV\n",
        "def salvar_csv(nome_arquivo, colunas, dados):\n",
        "    with open(nome_arquivo, mode='w', newline='') as file:\n",
        "        writer = csv.writer(file)\n",
        "        writer.writerow(colunas)\n",
        "        writer.writerows(dados)\n",
        "    print(f'Dados salvos em {nome_arquivo}')\n"
      ],
      "metadata": {
        "id": "1Yv4B1JZqFrt"
      },
      "execution_count": null,
      "outputs": []
    },
    {
      "cell_type": "code",
      "source": [
        "salvar_csv('alunos.csv', 'nome, matricula',alunos)"
      ],
      "metadata": {
        "id": "al3g4BJBs1PM"
      },
      "execution_count": null,
      "outputs": []
    },
    {
      "cell_type": "code",
      "source": [
        "# Função para gerar nomes de alunos fictícios\n",
        "def gerar_alunos(qtd_alunos):\n",
        "    alunos = []\n",
        "    for i in range(1, qtd_alunos + 1):\n",
        "        nome = f'Aluno {i:04}'\n",
        "        matricula = f'2023{i:05}'\n",
        "        alunos.append((nome, matricula))\n",
        "    return alunos\n",
        "\n",
        "# Função para gerar disciplinas fictícias\n",
        "def gerar_disciplinas():\n",
        "    return [\n",
        "        ('Matemática',),\n",
        "        ('Português',),\n",
        "        ('História',),\n",
        "        ('Geografia',),\n",
        "        ('Ciências',)\n",
        "    ]\n",
        "\n",
        "\n",
        "    # Função para gerar notas aleatórias para os alunos\n",
        "def gerar_notas(qtd_alunos, qtd_disciplinas):\n",
        "    notas = []\n",
        "    for aluno_id in range(1, qtd_alunos + 1):\n",
        "        for disciplina_id in range(1, qtd_disciplinas + 1):\n",
        "            nota = round(random.uniform(5.0, 10.0), 1)\n",
        "            notas.append((aluno_id, disciplina_id, nota))\n",
        "    return notas\n",
        "\n",
        "\n",
        "# Função para salvar os dados em CSV\n",
        "def salvar_csv(nome_arquivo, colunas, dados):\n",
        "    with open(nome_arquivo, mode='w', newline='') as file:\n",
        "        writer = csv.writer(file)\n",
        "        writer.writerow(colunas)\n",
        "        writer.writerows(dados)\n",
        "    print(f'Dados salvos em {nome_arquivo}')\n",
        "\n",
        "\n",
        "# Geração de dados fictícios\n",
        "def gerar_dados_ficticios(qtd_alunos):\n",
        "    # Gerar dados\n",
        "    alunos = gerar_alunos(qtd_alunos)\n",
        "    disciplinas = gerar_disciplinas()\n",
        "    notas = gerar_notas(qtd_alunos, len(disciplinas))\n",
        "\n",
        "    # Salvar em arquivos CSV\n",
        "    salvar_csv('alunos.csv', ['nome', 'matricula'], alunos)\n",
        "    salvar_csv('disciplinas.csv', ['nome'], disciplinas)\n",
        "    salvar_csv('notas.csv', ['id_aluno', 'id_disciplina', 'nota'], notas)"
      ],
      "metadata": {
        "id": "zvAvWLCpPa0y"
      },
      "execution_count": null,
      "outputs": []
    },
    {
      "cell_type": "code",
      "source": [
        "conteudo = '''\n",
        "import random\n",
        "import csv\n",
        "# Função para gerar nomes de alunos fictícios\n",
        "def gerar_alunos(qtd_alunos):\n",
        "    alunos = []\n",
        "    for i in range(1, qtd_alunos + 1):\n",
        "        nome = f'Aluno {i:03}'\n",
        "        matricula = f'2023{i:04}'\n",
        "        alunos.append((nome, matricula))\n",
        "    return alunos\n",
        "\n",
        "# Função para gerar disciplinas fictícias\n",
        "def gerar_disciplinas():\n",
        "    return [\n",
        "        ('Matemática',),\n",
        "        ('Português',),\n",
        "        ('História',),\n",
        "        ('Geografia',),\n",
        "        ('Ciências',)\n",
        "    ]\n",
        "\n",
        "\n",
        "    # Função para gerar notas aleatórias para os alunos\n",
        "def gerar_notas(qtd_alunos, qtd_disciplinas):\n",
        "    notas = []\n",
        "    for aluno_id in range(1, qtd_alunos + 1):\n",
        "        for disciplina_id in range(1, qtd_disciplinas + 1):\n",
        "            nota = round(random.uniform(5.0, 10.0), 1)\n",
        "            notas.append((aluno_id, disciplina_id, nota))\n",
        "    return notas\n",
        "\n",
        "\n",
        "# Função para salvar os dados em CSV\n",
        "def salvar_csv(nome_arquivo, colunas, dados):\n",
        "    with open(nome_arquivo, mode='w', newline='') as file:\n",
        "        writer = csv.writer(file)\n",
        "        writer.writerow(colunas)\n",
        "        writer.writerows(dados)\n",
        "    print(f'Dados salvos em {nome_arquivo}')\n",
        "\n",
        "\n",
        "# Geração de dados fictícios\n",
        "def gerar_dados_ficticios(qtd_alunos):\n",
        "    # Gerar dados\n",
        "    alunos = gerar_alunos(qtd_alunos)\n",
        "    disciplinas = gerar_disciplinas()\n",
        "    notas = gerar_notas(qtd_alunos, len(disciplinas))\n",
        "\n",
        "    # Salvar em arquivos CSV\n",
        "    salvar_csv('alunos.csv', ['nome', 'matricula'], alunos)\n",
        "    salvar_csv('disciplinas.csv', ['nome'], disciplinas)\n",
        "    salvar_csv('notas.csv', ['id_aluno', 'id_disciplina', 'nota'], notas)\n",
        "'''\n"
      ],
      "metadata": {
        "id": "zD0eznRAQDQG"
      },
      "execution_count": null,
      "outputs": []
    },
    {
      "cell_type": "code",
      "source": [
        "with open('gerador_dados.py', mode='w') as file:\n",
        "    file.write(conteudo)"
      ],
      "metadata": {
        "id": "VjVmeBZQP4uL"
      },
      "execution_count": null,
      "outputs": []
    },
    {
      "cell_type": "markdown",
      "source": [
        "2. Gerar Dados e Salvar em Arquivos CSV\n",
        "\n",
        "Agora, no script principal, podemos usar o módulo gerador_dados.py para gerar os dados fictícios e salvar os arquivos CSV. Aqui criamos dados para 50 alunos e 5 disciplinas, e geramos suas notas.\n",
        "\n"
      ],
      "metadata": {
        "id": "GtnfgLqvQTki"
      }
    },
    {
      "cell_type": "code",
      "source": [
        "with open('main.py', mode='w') as file:\n",
        "    file.write(\n",
        "        '''\n",
        "import gerador_dados\n",
        "gerador_dados.gerar_dados_ficticios(100)\n",
        "        '''\n",
        "    )"
      ],
      "metadata": {
        "id": "beUO_osrPfw6"
      },
      "execution_count": null,
      "outputs": []
    },
    {
      "cell_type": "code",
      "source": [
        "with open('main.py', mode='r') as file:\n",
        "    print(file.read())"
      ],
      "metadata": {
        "colab": {
          "base_uri": "https://localhost:8080/"
        },
        "id": "sHsWd6DEPhLS",
        "outputId": "fb307257-77df-4554-97d0-4fa1d4cd1215"
      },
      "execution_count": null,
      "outputs": [
        {
          "output_type": "stream",
          "name": "stdout",
          "text": [
            "\n",
            "import gerador_dados\n",
            "gerador_dados.gerar_dados_ficticios(100)\n",
            "        \n"
          ]
        }
      ]
    },
    {
      "cell_type": "code",
      "source": [
        "import main"
      ],
      "metadata": {
        "colab": {
          "base_uri": "https://localhost:8080/",
          "height": 287
        },
        "collapsed": true,
        "id": "fEb6F9BnubrL",
        "outputId": "a8a46744-7beb-4aef-f5aa-f2eb0df44db0"
      },
      "execution_count": null,
      "outputs": [
        {
          "output_type": "error",
          "ename": "NameError",
          "evalue": "name 'random' is not defined",
          "traceback": [
            "\u001b[0;31m---------------------------------------------------------------------------\u001b[0m",
            "\u001b[0;31mNameError\u001b[0m                                 Traceback (most recent call last)",
            "\u001b[0;32m<ipython-input-148-63b75181c34a>\u001b[0m in \u001b[0;36m<cell line: 1>\u001b[0;34m()\u001b[0m\n\u001b[0;32m----> 1\u001b[0;31m \u001b[0;32mimport\u001b[0m \u001b[0mmain\u001b[0m\u001b[0;34m\u001b[0m\u001b[0;34m\u001b[0m\u001b[0m\n\u001b[0m",
            "\u001b[0;32m/content/drive/MyDrive/ciclo11_Python_Para_Dados/mod2/main.py\u001b[0m in \u001b[0;36m<module>\u001b[0;34m\u001b[0m\n\u001b[1;32m      1\u001b[0m \u001b[0;34m\u001b[0m\u001b[0m\n\u001b[1;32m      2\u001b[0m \u001b[0;32mimport\u001b[0m \u001b[0mgerador_dados\u001b[0m\u001b[0;34m\u001b[0m\u001b[0;34m\u001b[0m\u001b[0m\n\u001b[0;32m----> 3\u001b[0;31m \u001b[0mgerador_dados\u001b[0m\u001b[0;34m.\u001b[0m\u001b[0mgerar_dados_ficticios\u001b[0m\u001b[0;34m(\u001b[0m\u001b[0;36m100\u001b[0m\u001b[0;34m)\u001b[0m\u001b[0;34m\u001b[0m\u001b[0;34m\u001b[0m\u001b[0m\n\u001b[0m\u001b[1;32m      4\u001b[0m \u001b[0;34m\u001b[0m\u001b[0m\n",
            "\u001b[0;32m/content/drive/MyDrive/ciclo11_Python_Para_Dados/mod2/gerador_dados.py\u001b[0m in \u001b[0;36mgerar_dados_ficticios\u001b[0;34m(qtd_alunos)\u001b[0m\n\u001b[1;32m     43\u001b[0m \u001b[0;31m# Geração de dados fictícios\u001b[0m\u001b[0;34m\u001b[0m\u001b[0;34m\u001b[0m\u001b[0m\n\u001b[1;32m     44\u001b[0m \u001b[0;32mdef\u001b[0m \u001b[0mgerar_dados_ficticios\u001b[0m\u001b[0;34m(\u001b[0m\u001b[0mqtd_alunos\u001b[0m\u001b[0;34m)\u001b[0m\u001b[0;34m:\u001b[0m\u001b[0;34m\u001b[0m\u001b[0;34m\u001b[0m\u001b[0m\n\u001b[0;32m---> 45\u001b[0;31m     \u001b[0;31m# Gerar dados\u001b[0m\u001b[0;34m\u001b[0m\u001b[0;34m\u001b[0m\u001b[0m\n\u001b[0m\u001b[1;32m     46\u001b[0m     \u001b[0malunos\u001b[0m \u001b[0;34m=\u001b[0m \u001b[0mgerar_alunos\u001b[0m\u001b[0;34m(\u001b[0m\u001b[0mqtd_alunos\u001b[0m\u001b[0;34m)\u001b[0m\u001b[0;34m\u001b[0m\u001b[0;34m\u001b[0m\u001b[0m\n\u001b[1;32m     47\u001b[0m     \u001b[0mdisciplinas\u001b[0m \u001b[0;34m=\u001b[0m \u001b[0mgerar_disciplinas\u001b[0m\u001b[0;34m(\u001b[0m\u001b[0;34m)\u001b[0m\u001b[0;34m\u001b[0m\u001b[0;34m\u001b[0m\u001b[0m\n",
            "\u001b[0;32m/content/drive/MyDrive/ciclo11_Python_Para_Dados/mod2/gerador_dados.py\u001b[0m in \u001b[0;36mgerar_notas\u001b[0;34m(qtd_alunos, qtd_disciplinas)\u001b[0m\n\u001b[1;32m     24\u001b[0m     \u001b[0;31m# Função para gerar notas aleatórias para os alunos\u001b[0m\u001b[0;34m\u001b[0m\u001b[0;34m\u001b[0m\u001b[0m\n\u001b[1;32m     25\u001b[0m \u001b[0;32mdef\u001b[0m \u001b[0mgerar_notas\u001b[0m\u001b[0;34m(\u001b[0m\u001b[0mqtd_alunos\u001b[0m\u001b[0;34m,\u001b[0m \u001b[0mqtd_disciplinas\u001b[0m\u001b[0;34m)\u001b[0m\u001b[0;34m:\u001b[0m\u001b[0;34m\u001b[0m\u001b[0;34m\u001b[0m\u001b[0m\n\u001b[0;32m---> 26\u001b[0;31m     \u001b[0mnotas\u001b[0m \u001b[0;34m=\u001b[0m \u001b[0;34m[\u001b[0m\u001b[0;34m]\u001b[0m\u001b[0;34m\u001b[0m\u001b[0;34m\u001b[0m\u001b[0m\n\u001b[0m\u001b[1;32m     27\u001b[0m     \u001b[0;32mfor\u001b[0m \u001b[0maluno_id\u001b[0m \u001b[0;32min\u001b[0m \u001b[0mrange\u001b[0m\u001b[0;34m(\u001b[0m\u001b[0;36m1\u001b[0m\u001b[0;34m,\u001b[0m \u001b[0mqtd_alunos\u001b[0m \u001b[0;34m+\u001b[0m \u001b[0;36m1\u001b[0m\u001b[0;34m)\u001b[0m\u001b[0;34m:\u001b[0m\u001b[0;34m\u001b[0m\u001b[0;34m\u001b[0m\u001b[0m\n\u001b[1;32m     28\u001b[0m         \u001b[0;32mfor\u001b[0m \u001b[0mdisciplina_id\u001b[0m \u001b[0;32min\u001b[0m \u001b[0mrange\u001b[0m\u001b[0;34m(\u001b[0m\u001b[0;36m1\u001b[0m\u001b[0;34m,\u001b[0m \u001b[0mqtd_disciplinas\u001b[0m \u001b[0;34m+\u001b[0m \u001b[0;36m1\u001b[0m\u001b[0;34m)\u001b[0m\u001b[0;34m:\u001b[0m\u001b[0;34m\u001b[0m\u001b[0;34m\u001b[0m\u001b[0m\n",
            "\u001b[0;31mNameError\u001b[0m: name 'random' is not defined"
          ]
        }
      ]
    },
    {
      "cell_type": "code",
      "source": [
        "import gerador_dados\n",
        "gerador_dados.gerar_dados_ficticios(100)"
      ],
      "metadata": {
        "colab": {
          "base_uri": "https://localhost:8080/",
          "height": 304
        },
        "collapsed": true,
        "id": "ALCwafu0uluU",
        "outputId": "04452105-5d8d-4764-bbde-b31dcbbe3757"
      },
      "execution_count": null,
      "outputs": [
        {
          "output_type": "error",
          "ename": "NameError",
          "evalue": "name 'random' is not defined",
          "traceback": [
            "\u001b[0;31m---------------------------------------------------------------------------\u001b[0m",
            "\u001b[0;31mNameError\u001b[0m                                 Traceback (most recent call last)",
            "\u001b[0;32m<ipython-input-152-bd2ffa5b7f2b>\u001b[0m in \u001b[0;36m<cell line: 2>\u001b[0;34m()\u001b[0m\n\u001b[1;32m      1\u001b[0m \u001b[0;32mimport\u001b[0m \u001b[0mgerador_dados\u001b[0m\u001b[0;34m\u001b[0m\u001b[0;34m\u001b[0m\u001b[0m\n\u001b[0;32m----> 2\u001b[0;31m \u001b[0mgerador_dados\u001b[0m\u001b[0;34m.\u001b[0m\u001b[0mgerar_dados_ficticios\u001b[0m\u001b[0;34m(\u001b[0m\u001b[0;36m100\u001b[0m\u001b[0;34m)\u001b[0m\u001b[0;34m\u001b[0m\u001b[0;34m\u001b[0m\u001b[0m\n\u001b[0m",
            "\u001b[0;32m/content/drive/MyDrive/ciclo11_Python_Para_Dados/mod2/gerador_dados.py\u001b[0m in \u001b[0;36mgerar_dados_ficticios\u001b[0;34m(qtd_alunos)\u001b[0m\n\u001b[1;32m     43\u001b[0m \u001b[0;31m# Geração de dados fictícios\u001b[0m\u001b[0;34m\u001b[0m\u001b[0;34m\u001b[0m\u001b[0m\n\u001b[1;32m     44\u001b[0m \u001b[0;32mdef\u001b[0m \u001b[0mgerar_dados_ficticios\u001b[0m\u001b[0;34m(\u001b[0m\u001b[0mqtd_alunos\u001b[0m\u001b[0;34m)\u001b[0m\u001b[0;34m:\u001b[0m\u001b[0;34m\u001b[0m\u001b[0;34m\u001b[0m\u001b[0m\n\u001b[0;32m---> 45\u001b[0;31m     \u001b[0;31m# Gerar dados\u001b[0m\u001b[0;34m\u001b[0m\u001b[0;34m\u001b[0m\u001b[0m\n\u001b[0m\u001b[1;32m     46\u001b[0m     \u001b[0malunos\u001b[0m \u001b[0;34m=\u001b[0m \u001b[0mgerar_alunos\u001b[0m\u001b[0;34m(\u001b[0m\u001b[0mqtd_alunos\u001b[0m\u001b[0;34m)\u001b[0m\u001b[0;34m\u001b[0m\u001b[0;34m\u001b[0m\u001b[0m\n\u001b[1;32m     47\u001b[0m     \u001b[0mdisciplinas\u001b[0m \u001b[0;34m=\u001b[0m \u001b[0mgerar_disciplinas\u001b[0m\u001b[0;34m(\u001b[0m\u001b[0;34m)\u001b[0m\u001b[0;34m\u001b[0m\u001b[0;34m\u001b[0m\u001b[0m\n",
            "\u001b[0;32m/content/drive/MyDrive/ciclo11_Python_Para_Dados/mod2/gerador_dados.py\u001b[0m in \u001b[0;36mgerar_notas\u001b[0;34m(qtd_alunos, qtd_disciplinas)\u001b[0m\n\u001b[1;32m     24\u001b[0m     \u001b[0;31m# Função para gerar notas aleatórias para os alunos\u001b[0m\u001b[0;34m\u001b[0m\u001b[0;34m\u001b[0m\u001b[0m\n\u001b[1;32m     25\u001b[0m \u001b[0;32mdef\u001b[0m \u001b[0mgerar_notas\u001b[0m\u001b[0;34m(\u001b[0m\u001b[0mqtd_alunos\u001b[0m\u001b[0;34m,\u001b[0m \u001b[0mqtd_disciplinas\u001b[0m\u001b[0;34m)\u001b[0m\u001b[0;34m:\u001b[0m\u001b[0;34m\u001b[0m\u001b[0;34m\u001b[0m\u001b[0m\n\u001b[0;32m---> 26\u001b[0;31m     \u001b[0mnotas\u001b[0m \u001b[0;34m=\u001b[0m \u001b[0;34m[\u001b[0m\u001b[0;34m]\u001b[0m\u001b[0;34m\u001b[0m\u001b[0;34m\u001b[0m\u001b[0m\n\u001b[0m\u001b[1;32m     27\u001b[0m     \u001b[0;32mfor\u001b[0m \u001b[0maluno_id\u001b[0m \u001b[0;32min\u001b[0m \u001b[0mrange\u001b[0m\u001b[0;34m(\u001b[0m\u001b[0;36m1\u001b[0m\u001b[0;34m,\u001b[0m \u001b[0mqtd_alunos\u001b[0m \u001b[0;34m+\u001b[0m \u001b[0;36m1\u001b[0m\u001b[0;34m)\u001b[0m\u001b[0;34m:\u001b[0m\u001b[0;34m\u001b[0m\u001b[0;34m\u001b[0m\u001b[0m\n\u001b[1;32m     28\u001b[0m         \u001b[0;32mfor\u001b[0m \u001b[0mdisciplina_id\u001b[0m \u001b[0;32min\u001b[0m \u001b[0mrange\u001b[0m\u001b[0;34m(\u001b[0m\u001b[0;36m1\u001b[0m\u001b[0;34m,\u001b[0m \u001b[0mqtd_disciplinas\u001b[0m \u001b[0;34m+\u001b[0m \u001b[0;36m1\u001b[0m\u001b[0;34m)\u001b[0m\u001b[0;34m:\u001b[0m\u001b[0;34m\u001b[0m\u001b[0;34m\u001b[0m\u001b[0m\n",
            "\u001b[0;31mNameError\u001b[0m: name 'random' is not defined"
          ]
        }
      ]
    },
    {
      "cell_type": "code",
      "source": [
        "with open('alunos.csv', mode='r') as file:\n",
        "    print(file.read())"
      ],
      "metadata": {
        "colab": {
          "base_uri": "https://localhost:8080/"
        },
        "collapsed": true,
        "id": "OlocKATuQqxq",
        "outputId": "97cc0b5c-392a-46bd-d317-edf7111a4640"
      },
      "execution_count": null,
      "outputs": [
        {
          "output_type": "stream",
          "name": "stdout",
          "text": [
            "nome,matricula\n",
            "Aluno 001,20230001\n",
            "Aluno 002,20230002\n",
            "Aluno 003,20230003\n",
            "Aluno 004,20230004\n",
            "Aluno 005,20230005\n",
            "Aluno 006,20230006\n",
            "Aluno 007,20230007\n",
            "Aluno 008,20230008\n",
            "Aluno 009,20230009\n",
            "Aluno 010,20230010\n",
            "Aluno 011,20230011\n",
            "Aluno 012,20230012\n",
            "Aluno 013,20230013\n",
            "Aluno 014,20230014\n",
            "Aluno 015,20230015\n",
            "Aluno 016,20230016\n",
            "Aluno 017,20230017\n",
            "Aluno 018,20230018\n",
            "Aluno 019,20230019\n",
            "Aluno 020,20230020\n",
            "Aluno 021,20230021\n",
            "Aluno 022,20230022\n",
            "Aluno 023,20230023\n",
            "Aluno 024,20230024\n",
            "Aluno 025,20230025\n",
            "Aluno 026,20230026\n",
            "Aluno 027,20230027\n",
            "Aluno 028,20230028\n",
            "Aluno 029,20230029\n",
            "Aluno 030,20230030\n",
            "Aluno 031,20230031\n",
            "Aluno 032,20230032\n",
            "Aluno 033,20230033\n",
            "Aluno 034,20230034\n",
            "Aluno 035,20230035\n",
            "Aluno 036,20230036\n",
            "Aluno 037,20230037\n",
            "Aluno 038,20230038\n",
            "Aluno 039,20230039\n",
            "Aluno 040,20230040\n",
            "Aluno 041,20230041\n",
            "Aluno 042,20230042\n",
            "Aluno 043,20230043\n",
            "Aluno 044,20230044\n",
            "Aluno 045,20230045\n",
            "Aluno 046,20230046\n",
            "Aluno 047,20230047\n",
            "Aluno 048,20230048\n",
            "Aluno 049,20230049\n",
            "Aluno 050,20230050\n",
            "\n"
          ]
        }
      ]
    },
    {
      "cell_type": "code",
      "source": [
        "with open('disciplinas.csv', mode='r') as file:\n",
        "    print(file.read())"
      ],
      "metadata": {
        "colab": {
          "base_uri": "https://localhost:8080/"
        },
        "collapsed": true,
        "id": "Aoe0zrNYQu46",
        "outputId": "33f0bd20-ad9a-4fee-ba2f-5739d6639099"
      },
      "execution_count": null,
      "outputs": [
        {
          "output_type": "stream",
          "name": "stdout",
          "text": [
            "nome\n",
            "Matemática\n",
            "Português\n",
            "História\n",
            "Geografia\n",
            "Ciências\n",
            "\n"
          ]
        }
      ]
    },
    {
      "cell_type": "code",
      "source": [
        "with open('notas.csv', mode='r') as file:\n",
        "    print(file.read())"
      ],
      "metadata": {
        "colab": {
          "base_uri": "https://localhost:8080/"
        },
        "collapsed": true,
        "id": "ySrL-JhEQytJ",
        "outputId": "3b18d495-c23b-4577-cfe4-6af2acc47ac6"
      },
      "execution_count": null,
      "outputs": [
        {
          "output_type": "stream",
          "name": "stdout",
          "text": [
            "id_aluno,id_disciplina,nota\n",
            "1,1,8.5\n",
            "1,2,9.8\n",
            "1,3,9.7\n",
            "1,4,7.7\n",
            "1,5,9.5\n",
            "2,1,8.1\n",
            "2,2,5.7\n",
            "2,3,9.8\n",
            "2,4,10.0\n",
            "2,5,10.0\n",
            "3,1,6.7\n",
            "3,2,5.7\n",
            "3,3,9.1\n",
            "3,4,9.4\n",
            "3,5,7.5\n",
            "4,1,5.4\n",
            "4,2,7.6\n",
            "4,3,9.7\n",
            "4,4,8.0\n",
            "4,5,8.4\n",
            "5,1,5.4\n",
            "5,2,7.8\n",
            "5,3,6.0\n",
            "5,4,7.1\n",
            "5,5,9.8\n",
            "6,1,9.9\n",
            "6,2,8.3\n",
            "6,3,6.2\n",
            "6,4,6.5\n",
            "6,5,5.1\n",
            "7,1,6.5\n",
            "7,2,7.1\n",
            "7,3,8.1\n",
            "7,4,9.5\n",
            "7,5,6.7\n",
            "8,1,5.2\n",
            "8,2,6.7\n",
            "8,3,7.4\n",
            "8,4,9.4\n",
            "8,5,5.4\n",
            "9,1,8.4\n",
            "9,2,5.4\n",
            "9,3,9.1\n",
            "9,4,6.7\n",
            "9,5,7.6\n",
            "10,1,6.9\n",
            "10,2,8.5\n",
            "10,3,5.5\n",
            "10,4,5.4\n",
            "10,5,6.4\n",
            "11,1,5.3\n",
            "11,2,6.3\n",
            "11,3,5.7\n",
            "11,4,9.6\n",
            "11,5,5.9\n",
            "12,1,7.4\n",
            "12,2,9.9\n",
            "12,3,6.0\n",
            "12,4,6.6\n",
            "12,5,5.5\n",
            "13,1,8.0\n",
            "13,2,6.6\n",
            "13,3,9.4\n",
            "13,4,5.5\n",
            "13,5,6.0\n",
            "14,1,8.7\n",
            "14,2,9.2\n",
            "14,3,10.0\n",
            "14,4,9.8\n",
            "14,5,6.8\n",
            "15,1,5.3\n",
            "15,2,5.8\n",
            "15,3,6.9\n",
            "15,4,6.6\n",
            "15,5,8.2\n",
            "16,1,7.4\n",
            "16,2,7.4\n",
            "16,3,6.0\n",
            "16,4,8.1\n",
            "16,5,5.1\n",
            "17,1,5.7\n",
            "17,2,5.9\n",
            "17,3,6.5\n",
            "17,4,7.2\n",
            "17,5,8.6\n",
            "18,1,9.2\n",
            "18,2,9.4\n",
            "18,3,6.9\n",
            "18,4,6.9\n",
            "18,5,5.8\n",
            "19,1,7.2\n",
            "19,2,5.6\n",
            "19,3,8.1\n",
            "19,4,9.2\n",
            "19,5,8.4\n",
            "20,1,8.5\n",
            "20,2,9.7\n",
            "20,3,9.8\n",
            "20,4,6.0\n",
            "20,5,5.5\n",
            "21,1,5.2\n",
            "21,2,5.6\n",
            "21,3,7.8\n",
            "21,4,8.0\n",
            "21,5,8.7\n",
            "22,1,7.4\n",
            "22,2,5.9\n",
            "22,3,9.2\n",
            "22,4,6.7\n",
            "22,5,6.9\n",
            "23,1,8.9\n",
            "23,2,6.4\n",
            "23,3,9.4\n",
            "23,4,8.6\n",
            "23,5,6.5\n",
            "24,1,6.7\n",
            "24,2,7.7\n",
            "24,3,10.0\n",
            "24,4,8.5\n",
            "24,5,8.1\n",
            "25,1,9.4\n",
            "25,2,8.8\n",
            "25,3,5.1\n",
            "25,4,6.3\n",
            "25,5,8.5\n",
            "26,1,6.3\n",
            "26,2,5.8\n",
            "26,3,6.8\n",
            "26,4,6.5\n",
            "26,5,6.1\n",
            "27,1,6.4\n",
            "27,2,6.1\n",
            "27,3,7.6\n",
            "27,4,6.8\n",
            "27,5,9.2\n",
            "28,1,8.1\n",
            "28,2,8.1\n",
            "28,3,7.7\n",
            "28,4,6.2\n",
            "28,5,8.7\n",
            "29,1,6.7\n",
            "29,2,6.7\n",
            "29,3,7.7\n",
            "29,4,7.2\n",
            "29,5,8.0\n",
            "30,1,8.4\n",
            "30,2,9.1\n",
            "30,3,8.5\n",
            "30,4,8.3\n",
            "30,5,8.5\n",
            "31,1,6.4\n",
            "31,2,7.6\n",
            "31,3,6.1\n",
            "31,4,5.8\n",
            "31,5,5.5\n",
            "32,1,9.5\n",
            "32,2,9.7\n",
            "32,3,7.5\n",
            "32,4,6.4\n",
            "32,5,7.4\n",
            "33,1,8.9\n",
            "33,2,8.1\n",
            "33,3,9.6\n",
            "33,4,6.1\n",
            "33,5,6.7\n",
            "34,1,7.1\n",
            "34,2,6.2\n",
            "34,3,7.0\n",
            "34,4,7.3\n",
            "34,5,8.1\n",
            "35,1,6.4\n",
            "35,2,9.7\n",
            "35,3,6.3\n",
            "35,4,5.2\n",
            "35,5,6.6\n",
            "36,1,5.1\n",
            "36,2,8.0\n",
            "36,3,5.4\n",
            "36,4,9.9\n",
            "36,5,7.9\n",
            "37,1,6.8\n",
            "37,2,9.7\n",
            "37,3,6.7\n",
            "37,4,8.6\n",
            "37,5,9.8\n",
            "38,1,6.0\n",
            "38,2,9.7\n",
            "38,3,9.4\n",
            "38,4,9.9\n",
            "38,5,5.2\n",
            "39,1,6.4\n",
            "39,2,5.3\n",
            "39,3,8.6\n",
            "39,4,6.7\n",
            "39,5,7.1\n",
            "40,1,7.2\n",
            "40,2,5.7\n",
            "40,3,6.4\n",
            "40,4,5.2\n",
            "40,5,9.0\n",
            "41,1,6.7\n",
            "41,2,7.7\n",
            "41,3,9.2\n",
            "41,4,6.9\n",
            "41,5,9.0\n",
            "42,1,9.5\n",
            "42,2,6.2\n",
            "42,3,9.1\n",
            "42,4,10.0\n",
            "42,5,8.6\n",
            "43,1,8.7\n",
            "43,2,7.1\n",
            "43,3,7.4\n",
            "43,4,8.1\n",
            "43,5,9.0\n",
            "44,1,5.1\n",
            "44,2,7.1\n",
            "44,3,8.5\n",
            "44,4,6.9\n",
            "44,5,8.5\n",
            "45,1,5.1\n",
            "45,2,6.9\n",
            "45,3,7.0\n",
            "45,4,5.8\n",
            "45,5,7.1\n",
            "46,1,6.6\n",
            "46,2,8.8\n",
            "46,3,9.2\n",
            "46,4,7.1\n",
            "46,5,5.0\n",
            "47,1,5.0\n",
            "47,2,7.1\n",
            "47,3,7.9\n",
            "47,4,8.2\n",
            "47,5,10.0\n",
            "48,1,9.7\n",
            "48,2,7.4\n",
            "48,3,8.1\n",
            "48,4,8.6\n",
            "48,5,5.6\n",
            "49,1,8.3\n",
            "49,2,6.1\n",
            "49,3,9.7\n",
            "49,4,7.4\n",
            "49,5,8.5\n",
            "50,1,7.7\n",
            "50,2,5.6\n",
            "50,3,7.3\n",
            "50,4,8.1\n",
            "50,5,5.4\n",
            "\n"
          ]
        }
      ]
    },
    {
      "cell_type": "markdown",
      "source": [
        "3. Inserindo os Dados no SQLite a Partir dos Arquivos CSV\n",
        "\n",
        "Agora vamos carregar os dados dos arquivos CSV e inseri-los no banco de dados SQLite.\n",
        "\n",
        "Script para Inserir no SQLite:\n",
        "python"
      ],
      "metadata": {
        "id": "tL8kGzLVQ3mF"
      }
    },
    {
      "cell_type": "code",
      "source": [
        "# Conectar ao banco de dados SQLite\n",
        "conexao = sql.connect('escola.db')\n",
        "cursor = conexao.cursor()"
      ],
      "metadata": {
        "id": "FE4cx2TtQ6Rj"
      },
      "execution_count": null,
      "outputs": []
    },
    {
      "cell_type": "code",
      "source": [
        "# Criar as tabelas no banco de dados\n",
        "cursor.execute('''\n",
        "CREATE TABLE IF NOT EXISTS Alunos (\n",
        "    id_aluno INTEGER PRIMARY KEY AUTOINCREMENT,\n",
        "    nome TEXT NOT NULL,\n",
        "    matricula TEXT NOT NULL UNIQUE\n",
        ")\n",
        "''')\n"
      ],
      "metadata": {
        "colab": {
          "base_uri": "https://localhost:8080/"
        },
        "id": "gyRDxli5Q-G1",
        "outputId": "9413a5f3-d820-4d2d-819a-fc30a0848a46"
      },
      "execution_count": null,
      "outputs": [
        {
          "output_type": "execute_result",
          "data": {
            "text/plain": [
              "<sqlite3.Cursor at 0x7b305c9b7ac0>"
            ]
          },
          "metadata": {},
          "execution_count": 90
        }
      ]
    },
    {
      "cell_type": "code",
      "source": [
        "\n",
        "cursor.execute('''\n",
        "CREATE TABLE IF NOT EXISTS Disciplinas (\n",
        "    id_disciplina INTEGER PRIMARY KEY AUTOINCREMENT,\n",
        "    nome TEXT NOT NULL\n",
        ")\n",
        "''')\n"
      ],
      "metadata": {
        "colab": {
          "base_uri": "https://localhost:8080/"
        },
        "id": "9jh3HfBXRKJY",
        "outputId": "697d307b-8edf-4e55-fa51-4b08c2f7168a"
      },
      "execution_count": null,
      "outputs": [
        {
          "output_type": "execute_result",
          "data": {
            "text/plain": [
              "<sqlite3.Cursor at 0x7b305c9b7ac0>"
            ]
          },
          "metadata": {},
          "execution_count": 91
        }
      ]
    },
    {
      "cell_type": "code",
      "source": [
        "\n",
        "cursor.execute('''\n",
        "CREATE TABLE IF NOT EXISTS Notas (\n",
        "    id_nota INTEGER PRIMARY KEY AUTOINCREMENT,\n",
        "    id_aluno INTEGER,\n",
        "    id_disciplina INTEGER,\n",
        "    nota REAL,\n",
        "    FOREIGN KEY (id_aluno) REFERENCES Alunos(id_aluno),\n",
        "    FOREIGN KEY (id_disciplina) REFERENCES Disciplinas(id_disciplina)\n",
        ")\n",
        "''')"
      ],
      "metadata": {
        "colab": {
          "base_uri": "https://localhost:8080/"
        },
        "id": "KbiJsMt_RLbZ",
        "outputId": "3ea28ef9-e2f4-46f7-cf40-d352c3c83ea2"
      },
      "execution_count": null,
      "outputs": [
        {
          "output_type": "execute_result",
          "data": {
            "text/plain": [
              "<sqlite3.Cursor at 0x7b305c9b7ac0>"
            ]
          },
          "metadata": {},
          "execution_count": 92
        }
      ]
    },
    {
      "cell_type": "code",
      "source": [
        "# Função para carregar os dados de um arquivo CSV e inserir no banco\n",
        "def carregar_csv_e_inserir(nome_arquivo, query):\n",
        "    with open(nome_arquivo, mode='r') as file:\n",
        "        reader = csv.reader(file)\n",
        "        next(reader)  # Pular o cabeçalho\n",
        "        cursor.executemany(query, reader)"
      ],
      "metadata": {
        "id": "y0RCWTf9RNfr"
      },
      "execution_count": null,
      "outputs": []
    },
    {
      "cell_type": "code",
      "source": [
        "# Inserir dados no banco a partir dos arquivos CSV\n",
        "carregar_csv_e_inserir('alunos.csv', \"INSERT INTO Alunos (nome, matricula) VALUES (?, ?)\")\n",
        "carregar_csv_e_inserir('disciplinas.csv', \"INSERT INTO Disciplinas (nome) VALUES (?)\")\n",
        "carregar_csv_e_inserir('notas.csv', \"INSERT INTO Notas (id_aluno, id_disciplina, nota) VALUES (?, ?, ?)\")"
      ],
      "metadata": {
        "id": "nQxeDuZbRP0D"
      },
      "execution_count": null,
      "outputs": []
    },
    {
      "cell_type": "code",
      "source": [
        "# Salvar e fechar a conexão\n",
        "conexao.commit()"
      ],
      "metadata": {
        "id": "j1UCGA3pRRtI"
      },
      "execution_count": null,
      "outputs": []
    },
    {
      "cell_type": "markdown",
      "source": [
        "Fazendo consulta dos dados"
      ],
      "metadata": {
        "id": "F1jtGbEnRdO3"
      }
    },
    {
      "cell_type": "code",
      "source": [
        "cursor.execute('''\n",
        "    SELECT Alunos.nome, Disciplinas.nome, Notas.nota\n",
        "    FROM Notas\n",
        "    JOIN Alunos ON Notas.id_aluno = Alunos.id_aluno\n",
        "    JOIN Disciplinas ON Notas.id_disciplina = Disciplinas.id_disciplina\n",
        "    ''')\n"
      ],
      "metadata": {
        "colab": {
          "base_uri": "https://localhost:8080/"
        },
        "id": "mfJ8KKvNRUfj",
        "outputId": "56869936-70cc-4d1b-e292-0d1e3005bdd9"
      },
      "execution_count": null,
      "outputs": [
        {
          "output_type": "execute_result",
          "data": {
            "text/plain": [
              "<sqlite3.Cursor at 0x7b305c9b7ac0>"
            ]
          },
          "metadata": {},
          "execution_count": 96
        }
      ]
    },
    {
      "cell_type": "code",
      "source": [
        "resultados = cursor.fetchall()\n",
        "\n",
        "    # Exibir os resultados\n",
        "for resultado in resultados:\n",
        "        print(f\"Aluno: {resultado[0]}, Disciplina: {resultado[1]}, Nota: {resultado[2]}\")"
      ],
      "metadata": {
        "id": "k29uU3GqR7Cn"
      },
      "execution_count": null,
      "outputs": []
    }
  ]
}